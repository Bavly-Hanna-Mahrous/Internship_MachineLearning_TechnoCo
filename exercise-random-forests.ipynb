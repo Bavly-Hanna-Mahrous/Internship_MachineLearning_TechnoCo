{
 "cells": [
  {
   "cell_type": "markdown",
   "id": "43fa7970",
   "metadata": {
    "papermill": {
     "duration": 0.003009,
     "end_time": "2023-07-01T08:27:59.926826",
     "exception": false,
     "start_time": "2023-07-01T08:27:59.923817",
     "status": "completed"
    },
    "tags": []
   },
   "source": [
    "**This notebook is an exercise in the [Introduction to Machine Learning](https://www.kaggle.com/learn/intro-to-machine-learning) course.  You can reference the tutorial at [this link](https://www.kaggle.com/dansbecker/random-forests).**\n",
    "\n",
    "---\n"
   ]
  },
  {
   "cell_type": "markdown",
   "id": "d15d24de",
   "metadata": {
    "papermill": {
     "duration": 0.002105,
     "end_time": "2023-07-01T08:27:59.931787",
     "exception": false,
     "start_time": "2023-07-01T08:27:59.929682",
     "status": "completed"
    },
    "tags": []
   },
   "source": [
    "## Recap\n",
    "Here's the code you've written so far."
   ]
  },
  {
   "cell_type": "code",
   "execution_count": 1,
   "id": "3f8eb149",
   "metadata": {
    "execution": {
     "iopub.execute_input": "2023-07-01T08:27:59.938964Z",
     "iopub.status.busy": "2023-07-01T08:27:59.937727Z",
     "iopub.status.idle": "2023-07-01T08:28:01.791249Z",
     "shell.execute_reply": "2023-07-01T08:28:01.790047Z"
    },
    "papermill": {
     "duration": 1.859154,
     "end_time": "2023-07-01T08:28:01.793155",
     "exception": false,
     "start_time": "2023-07-01T08:27:59.934001",
     "status": "completed"
    },
    "tags": []
   },
   "outputs": [
    {
     "name": "stdout",
     "output_type": "stream",
     "text": [
      "Validation MAE when not specifying max_leaf_nodes: 29,653\n",
      "Validation MAE for best value of max_leaf_nodes: 27,283\n",
      "\n",
      "Setup complete\n"
     ]
    }
   ],
   "source": [
    "# Code you have previously used to load data\n",
    "import pandas as pd\n",
    "from sklearn.metrics import mean_absolute_error\n",
    "from sklearn.model_selection import train_test_split\n",
    "from sklearn.tree import DecisionTreeRegressor\n",
    "\n",
    "\n",
    "# Path of the file to read\n",
    "iowa_file_path = '../input/home-data-for-ml-course/train.csv'\n",
    "\n",
    "home_data = pd.read_csv(iowa_file_path)\n",
    "# Create target object and call it y\n",
    "y = home_data.SalePrice\n",
    "# Create X\n",
    "features = ['LotArea', 'YearBuilt', '1stFlrSF', '2ndFlrSF', 'FullBath', 'BedroomAbvGr', 'TotRmsAbvGrd']\n",
    "X = home_data[features]\n",
    "\n",
    "# Split into validation and training data\n",
    "train_X, val_X, train_y, val_y = train_test_split(X, y, random_state=1)\n",
    "\n",
    "# Specify Model\n",
    "iowa_model = DecisionTreeRegressor(random_state=1)\n",
    "# Fit Model\n",
    "iowa_model.fit(train_X, train_y)\n",
    "\n",
    "# Make validation predictions and calculate mean absolute error\n",
    "val_predictions = iowa_model.predict(val_X)\n",
    "val_mae = mean_absolute_error(val_predictions, val_y)\n",
    "print(\"Validation MAE when not specifying max_leaf_nodes: {:,.0f}\".format(val_mae))\n",
    "\n",
    "# Using best value for max_leaf_nodes\n",
    "iowa_model = DecisionTreeRegressor(max_leaf_nodes=100, random_state=1)\n",
    "iowa_model.fit(train_X, train_y)\n",
    "val_predictions = iowa_model.predict(val_X)\n",
    "val_mae = mean_absolute_error(val_predictions, val_y)\n",
    "print(\"Validation MAE for best value of max_leaf_nodes: {:,.0f}\".format(val_mae))\n",
    "\n",
    "\n",
    "# Set up code checking\n",
    "from learntools.core import binder\n",
    "binder.bind(globals())\n",
    "from learntools.machine_learning.ex6 import *\n",
    "print(\"\\nSetup complete\")"
   ]
  },
  {
   "cell_type": "markdown",
   "id": "a4dceabb",
   "metadata": {
    "papermill": {
     "duration": 0.002169,
     "end_time": "2023-07-01T08:28:01.797852",
     "exception": false,
     "start_time": "2023-07-01T08:28:01.795683",
     "status": "completed"
    },
    "tags": []
   },
   "source": [
    "# Exercises\n",
    "Data science isn't always this easy. But replacing the decision tree with a Random Forest is going to be an easy win."
   ]
  },
  {
   "cell_type": "markdown",
   "id": "04f0f5c0",
   "metadata": {
    "papermill": {
     "duration": 0.002044,
     "end_time": "2023-07-01T08:28:01.802133",
     "exception": false,
     "start_time": "2023-07-01T08:28:01.800089",
     "status": "completed"
    },
    "tags": []
   },
   "source": [
    "## Step 1: Use a Random Forest"
   ]
  },
  {
   "cell_type": "code",
   "execution_count": 2,
   "id": "87cbfea6",
   "metadata": {
    "execution": {
     "iopub.execute_input": "2023-07-01T08:28:01.808255Z",
     "iopub.status.busy": "2023-07-01T08:28:01.807921Z",
     "iopub.status.idle": "2023-07-01T08:28:02.345200Z",
     "shell.execute_reply": "2023-07-01T08:28:02.343812Z"
    },
    "papermill": {
     "duration": 0.542942,
     "end_time": "2023-07-01T08:28:02.347257",
     "exception": false,
     "start_time": "2023-07-01T08:28:01.804315",
     "status": "completed"
    },
    "tags": []
   },
   "outputs": [
    {
     "data": {
      "application/javascript": [
       "parent.postMessage({\"jupyterEvent\": \"custom.exercise_interaction\", \"data\": {\"outcomeType\": 1, \"valueTowardsCompletion\": 1.0, \"interactionType\": 1, \"questionType\": 2, \"questionId\": \"1_CheckRfScore\", \"learnToolsVersion\": \"0.3.4\", \"failureMessage\": \"\", \"exceptionClass\": \"\", \"trace\": \"\"}}, \"*\")"
      ],
      "text/plain": [
       "<IPython.core.display.Javascript object>"
      ]
     },
     "metadata": {},
     "output_type": "display_data"
    },
    {
     "data": {
      "text/markdown": [
       "<span style=\"color:#33cc33\">Correct</span>"
      ],
      "text/plain": [
       "Correct"
      ]
     },
     "metadata": {},
     "output_type": "display_data"
    }
   ],
   "source": [
    "from sklearn.ensemble import RandomForestRegressor\n",
    "\n",
    "rf_model = RandomForestRegressor()\n",
    "\n",
    "# fit your model\n",
    "rf_model.fit(train_X, train_y)\n",
    "\n",
    "# Calculate the mean absolute error of your Random Forest model on the validation data\n",
    "rf_val_predictions = rf_model.predict(val_X)\n",
    "rf_val_mae = mean_absolute_error(rf_val_predictions, val_y)\n",
    "# Check your answer\n",
    "step_1.check()"
   ]
  },
  {
   "cell_type": "code",
   "execution_count": 3,
   "id": "2b1d95d9",
   "metadata": {
    "execution": {
     "iopub.execute_input": "2023-07-01T08:28:02.354469Z",
     "iopub.status.busy": "2023-07-01T08:28:02.354095Z",
     "iopub.status.idle": "2023-07-01T08:28:02.358930Z",
     "shell.execute_reply": "2023-07-01T08:28:02.357508Z"
    },
    "papermill": {
     "duration": 0.011608,
     "end_time": "2023-07-01T08:28:02.361590",
     "exception": false,
     "start_time": "2023-07-01T08:28:02.349982",
     "status": "completed"
    },
    "tags": []
   },
   "outputs": [],
   "source": [
    "# The lines below will show you a hint or the solution.\n",
    "# step_1.hint() \n",
    "# step_1.solution()\n"
   ]
  },
  {
   "cell_type": "markdown",
   "id": "6442e749",
   "metadata": {
    "papermill": {
     "duration": 0.00242,
     "end_time": "2023-07-01T08:28:02.367499",
     "exception": false,
     "start_time": "2023-07-01T08:28:02.365079",
     "status": "completed"
    },
    "tags": []
   },
   "source": [
    "So far, you have followed specific instructions at each step of your project. This helped learn key ideas and build your first model, but now you know enough to try things on your own. \n",
    "\n",
    "Machine Learning competitions are a great way to try your own ideas and learn more as you independently navigate a machine learning project. \n",
    "\n",
    "# Keep Going\n",
    "\n",
    "You are ready for **[Machine Learning Competitions](https://www.kaggle.com/alexisbcook/machine-learning-competitions).**\n"
   ]
  },
  {
   "cell_type": "markdown",
   "id": "a9ebcc6a",
   "metadata": {
    "papermill": {
     "duration": 0.002265,
     "end_time": "2023-07-01T08:28:02.372342",
     "exception": false,
     "start_time": "2023-07-01T08:28:02.370077",
     "status": "completed"
    },
    "tags": []
   },
   "source": [
    "---\n",
    "\n",
    "\n",
    "\n",
    "\n",
    "*Have questions or comments? Visit the [course discussion forum](https://www.kaggle.com/learn/intro-to-machine-learning/discussion) to chat with other learners.*"
   ]
  }
 ],
 "metadata": {
  "kernelspec": {
   "display_name": "Python 3",
   "language": "python",
   "name": "python3"
  },
  "language_info": {
   "codemirror_mode": {
    "name": "ipython",
    "version": 3
   },
   "file_extension": ".py",
   "mimetype": "text/x-python",
   "name": "python",
   "nbconvert_exporter": "python",
   "pygments_lexer": "ipython3",
   "version": "3.10.10"
  },
  "papermill": {
   "default_parameters": {},
   "duration": 14.3535,
   "end_time": "2023-07-01T08:28:05.137711",
   "environment_variables": {},
   "exception": null,
   "input_path": "__notebook__.ipynb",
   "output_path": "__notebook__.ipynb",
   "parameters": {},
   "start_time": "2023-07-01T08:27:50.784211",
   "version": "2.4.0"
  }
 },
 "nbformat": 4,
 "nbformat_minor": 5
}
