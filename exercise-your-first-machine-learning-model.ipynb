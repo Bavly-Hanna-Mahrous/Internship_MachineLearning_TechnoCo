{
 "cells": [
  {
   "cell_type": "markdown",
   "id": "1a6f10ab",
   "metadata": {
    "papermill": {
     "duration": 0.007308,
     "end_time": "2023-07-01T08:20:17.858105",
     "exception": false,
     "start_time": "2023-07-01T08:20:17.850797",
     "status": "completed"
    },
    "tags": []
   },
   "source": [
    "**This notebook is an exercise in the [Introduction to Machine Learning](https://www.kaggle.com/learn/intro-to-machine-learning) course.  You can reference the tutorial at [this link](https://www.kaggle.com/dansbecker/your-first-machine-learning-model).**\n",
    "\n",
    "---\n"
   ]
  },
  {
   "cell_type": "markdown",
   "id": "133085cd",
   "metadata": {
    "papermill": {
     "duration": 0.006362,
     "end_time": "2023-07-01T08:20:17.871430",
     "exception": false,
     "start_time": "2023-07-01T08:20:17.865068",
     "status": "completed"
    },
    "tags": []
   },
   "source": [
    "## Recap\n",
    "So far, you have loaded your data and reviewed it with the following code. Run this cell to set up your coding environment where the previous step left off."
   ]
  },
  {
   "cell_type": "code",
   "execution_count": 1,
   "id": "83cf2d0b",
   "metadata": {
    "execution": {
     "iopub.execute_input": "2023-07-01T08:20:17.886938Z",
     "iopub.status.busy": "2023-07-01T08:20:17.886460Z",
     "iopub.status.idle": "2023-07-01T08:20:19.834844Z",
     "shell.execute_reply": "2023-07-01T08:20:19.833466Z"
    },
    "papermill": {
     "duration": 1.95969,
     "end_time": "2023-07-01T08:20:19.837959",
     "exception": false,
     "start_time": "2023-07-01T08:20:17.878269",
     "status": "completed"
    },
    "tags": []
   },
   "outputs": [
    {
     "name": "stdout",
     "output_type": "stream",
     "text": [
      "Setup Complete\n"
     ]
    }
   ],
   "source": [
    "# Code you have previously used to load data\n",
    "import pandas as pd\n",
    "\n",
    "# Path of the file to read\n",
    "iowa_file_path = '../input/home-data-for-ml-course/train.csv'\n",
    "\n",
    "home_data = pd.read_csv(iowa_file_path)\n",
    "\n",
    "# Set up code checking\n",
    "from learntools.core import binder\n",
    "binder.bind(globals())\n",
    "from learntools.machine_learning.ex3 import *\n",
    "\n",
    "print(\"Setup Complete\")"
   ]
  },
  {
   "cell_type": "markdown",
   "id": "20d4bd27",
   "metadata": {
    "papermill": {
     "duration": 0.006728,
     "end_time": "2023-07-01T08:20:19.851746",
     "exception": false,
     "start_time": "2023-07-01T08:20:19.845018",
     "status": "completed"
    },
    "tags": []
   },
   "source": [
    "# Exercises\n",
    "\n",
    "## Step 1: Specify Prediction Target\n",
    "Select the target variable, which corresponds to the sales price. Save this to a new variable called `y`. You'll need to print a list of the columns to find the name of the column you need.\n"
   ]
  },
  {
   "cell_type": "code",
   "execution_count": 2,
   "id": "bf08cd82",
   "metadata": {
    "collapsed": true,
    "execution": {
     "iopub.execute_input": "2023-07-01T08:20:19.867365Z",
     "iopub.status.busy": "2023-07-01T08:20:19.866918Z",
     "iopub.status.idle": "2023-07-01T08:20:19.871564Z",
     "shell.execute_reply": "2023-07-01T08:20:19.870358Z"
    },
    "jupyter": {
     "outputs_hidden": true
    },
    "papermill": {
     "duration": 0.015511,
     "end_time": "2023-07-01T08:20:19.874067",
     "exception": false,
     "start_time": "2023-07-01T08:20:19.858556",
     "status": "completed"
    },
    "tags": []
   },
   "outputs": [],
   "source": [
    "# print the list of columns in the dataset to find the name of the prediction target\n"
   ]
  },
  {
   "cell_type": "code",
   "execution_count": 3,
   "id": "136924c6",
   "metadata": {
    "execution": {
     "iopub.execute_input": "2023-07-01T08:20:19.891432Z",
     "iopub.status.busy": "2023-07-01T08:20:19.890992Z",
     "iopub.status.idle": "2023-07-01T08:20:19.908888Z",
     "shell.execute_reply": "2023-07-01T08:20:19.907831Z"
    },
    "papermill": {
     "duration": 0.030459,
     "end_time": "2023-07-01T08:20:19.911457",
     "exception": false,
     "start_time": "2023-07-01T08:20:19.880998",
     "status": "completed"
    },
    "tags": []
   },
   "outputs": [
    {
     "data": {
      "application/javascript": [
       "parent.postMessage({\"jupyterEvent\": \"custom.exercise_interaction\", \"data\": {\"outcomeType\": 1, \"valueTowardsCompletion\": 0.25, \"interactionType\": 1, \"questionType\": 2, \"questionId\": \"1_SetTarget\", \"learnToolsVersion\": \"0.3.4\", \"failureMessage\": \"\", \"exceptionClass\": \"\", \"trace\": \"\"}}, \"*\")"
      ],
      "text/plain": [
       "<IPython.core.display.Javascript object>"
      ]
     },
     "metadata": {},
     "output_type": "display_data"
    },
    {
     "data": {
      "text/markdown": [
       "<span style=\"color:#33cc33\">Correct</span>"
      ],
      "text/plain": [
       "Correct"
      ]
     },
     "metadata": {},
     "output_type": "display_data"
    }
   ],
   "source": [
    "y = home_data.SalePrice\n",
    "\n",
    "# Check your answer\n",
    "step_1.check()"
   ]
  },
  {
   "cell_type": "code",
   "execution_count": 4,
   "id": "2e28bad4",
   "metadata": {
    "execution": {
     "iopub.execute_input": "2023-07-01T08:20:19.929043Z",
     "iopub.status.busy": "2023-07-01T08:20:19.927926Z",
     "iopub.status.idle": "2023-07-01T08:20:19.932881Z",
     "shell.execute_reply": "2023-07-01T08:20:19.931873Z"
    },
    "papermill": {
     "duration": 0.016097,
     "end_time": "2023-07-01T08:20:19.935462",
     "exception": false,
     "start_time": "2023-07-01T08:20:19.919365",
     "status": "completed"
    },
    "tags": []
   },
   "outputs": [],
   "source": [
    "# The lines below will show you a hint or the solution.\n",
    "# step_1.hint() \n",
    "# step_1.solution()"
   ]
  },
  {
   "cell_type": "markdown",
   "id": "38990e21",
   "metadata": {
    "papermill": {
     "duration": 0.007167,
     "end_time": "2023-07-01T08:20:19.950322",
     "exception": false,
     "start_time": "2023-07-01T08:20:19.943155",
     "status": "completed"
    },
    "tags": []
   },
   "source": [
    "## Step 2: Create X\n",
    "Now you will create a DataFrame called `X` holding the predictive features.\n",
    "\n",
    "Since you want only some columns from the original data, you'll first create a list with the names of the columns you want in `X`.\n",
    "\n",
    "You'll use just the following columns in the list (you can copy and paste the whole list to save some typing, though you'll still need to add quotes):\n",
    "  * LotArea\n",
    "  * YearBuilt\n",
    "  * 1stFlrSF\n",
    "  * 2ndFlrSF\n",
    "  * FullBath\n",
    "  * BedroomAbvGr\n",
    "  * TotRmsAbvGrd\n",
    "\n",
    "After you've created that list of features, use it to create the DataFrame that you'll use to fit the model."
   ]
  },
  {
   "cell_type": "code",
   "execution_count": 5,
   "id": "52c86287",
   "metadata": {
    "execution": {
     "iopub.execute_input": "2023-07-01T08:20:19.967248Z",
     "iopub.status.busy": "2023-07-01T08:20:19.966425Z",
     "iopub.status.idle": "2023-07-01T08:20:19.984986Z",
     "shell.execute_reply": "2023-07-01T08:20:19.983641Z"
    },
    "papermill": {
     "duration": 0.030076,
     "end_time": "2023-07-01T08:20:19.987720",
     "exception": false,
     "start_time": "2023-07-01T08:20:19.957644",
     "status": "completed"
    },
    "tags": []
   },
   "outputs": [
    {
     "data": {
      "application/javascript": [
       "parent.postMessage({\"jupyterEvent\": \"custom.exercise_interaction\", \"data\": {\"outcomeType\": 1, \"valueTowardsCompletion\": 0.25, \"interactionType\": 1, \"questionType\": 2, \"questionId\": \"2_SelectPredictionData\", \"learnToolsVersion\": \"0.3.4\", \"failureMessage\": \"\", \"exceptionClass\": \"\", \"trace\": \"\"}}, \"*\")"
      ],
      "text/plain": [
       "<IPython.core.display.Javascript object>"
      ]
     },
     "metadata": {},
     "output_type": "display_data"
    },
    {
     "data": {
      "text/markdown": [
       "<span style=\"color:#33cc33\">Correct</span>"
      ],
      "text/plain": [
       "Correct"
      ]
     },
     "metadata": {},
     "output_type": "display_data"
    }
   ],
   "source": [
    "feature_names = [\"LotArea\", \"YearBuilt\", \"1stFlrSF\", \"2ndFlrSF\",\n",
    "                      \"FullBath\", \"BedroomAbvGr\", \"TotRmsAbvGrd\"]\n",
    "\n",
    "X=home_data[feature_names]\n",
    "# Check your answer\n",
    "step_2.check()"
   ]
  },
  {
   "cell_type": "code",
   "execution_count": 6,
   "id": "2d2bd38b",
   "metadata": {
    "execution": {
     "iopub.execute_input": "2023-07-01T08:20:20.005729Z",
     "iopub.status.busy": "2023-07-01T08:20:20.004942Z",
     "iopub.status.idle": "2023-07-01T08:20:20.011107Z",
     "shell.execute_reply": "2023-07-01T08:20:20.009789Z"
    },
    "papermill": {
     "duration": 0.018525,
     "end_time": "2023-07-01T08:20:20.013956",
     "exception": false,
     "start_time": "2023-07-01T08:20:19.995431",
     "status": "completed"
    },
    "tags": []
   },
   "outputs": [],
   "source": [
    "# step_2.hint()\n",
    "# step_2.solution()"
   ]
  },
  {
   "cell_type": "markdown",
   "id": "29629207",
   "metadata": {
    "papermill": {
     "duration": 0.008223,
     "end_time": "2023-07-01T08:20:20.029973",
     "exception": false,
     "start_time": "2023-07-01T08:20:20.021750",
     "status": "completed"
    },
    "tags": []
   },
   "source": [
    "## Review Data\n",
    "Before building a model, take a quick look at **X** to verify it looks sensible"
   ]
  },
  {
   "cell_type": "code",
   "execution_count": 7,
   "id": "1c0cbedc",
   "metadata": {
    "execution": {
     "iopub.execute_input": "2023-07-01T08:20:20.047453Z",
     "iopub.status.busy": "2023-07-01T08:20:20.046968Z",
     "iopub.status.idle": "2023-07-01T08:20:20.089220Z",
     "shell.execute_reply": "2023-07-01T08:20:20.087804Z"
    },
    "papermill": {
     "duration": 0.054573,
     "end_time": "2023-07-01T08:20:20.092312",
     "exception": false,
     "start_time": "2023-07-01T08:20:20.037739",
     "status": "completed"
    },
    "tags": []
   },
   "outputs": [
    {
     "name": "stdout",
     "output_type": "stream",
     "text": [
      "             LotArea    YearBuilt     1stFlrSF     2ndFlrSF     FullBath  \\\n",
      "count    1460.000000  1460.000000  1460.000000  1460.000000  1460.000000   \n",
      "mean    10516.828082  1971.267808  1162.626712   346.992466     1.565068   \n",
      "std      9981.264932    30.202904   386.587738   436.528436     0.550916   \n",
      "min      1300.000000  1872.000000   334.000000     0.000000     0.000000   \n",
      "25%      7553.500000  1954.000000   882.000000     0.000000     1.000000   \n",
      "50%      9478.500000  1973.000000  1087.000000     0.000000     2.000000   \n",
      "75%     11601.500000  2000.000000  1391.250000   728.000000     2.000000   \n",
      "max    215245.000000  2010.000000  4692.000000  2065.000000     3.000000   \n",
      "\n",
      "       BedroomAbvGr  TotRmsAbvGrd  \n",
      "count   1460.000000   1460.000000  \n",
      "mean       2.866438      6.517808  \n",
      "std        0.815778      1.625393  \n",
      "min        0.000000      2.000000  \n",
      "25%        2.000000      5.000000  \n",
      "50%        3.000000      6.000000  \n",
      "75%        3.000000      7.000000  \n",
      "max        8.000000     14.000000  \n",
      "   LotArea  YearBuilt  1stFlrSF  2ndFlrSF  FullBath  BedroomAbvGr  \\\n",
      "0     8450       2003       856       854         2             3   \n",
      "1     9600       1976      1262         0         2             3   \n",
      "2    11250       2001       920       866         2             3   \n",
      "3     9550       1915       961       756         1             3   \n",
      "4    14260       2000      1145      1053         2             4   \n",
      "\n",
      "   TotRmsAbvGrd  \n",
      "0             8  \n",
      "1             6  \n",
      "2             6  \n",
      "3             7  \n",
      "4             9  \n"
     ]
    }
   ],
   "source": [
    "# Review data\n",
    "# print description or statistics from X\n",
    "print(X.describe())\n",
    "\n",
    "# print the top few lines\n",
    "print(X.head())"
   ]
  },
  {
   "cell_type": "markdown",
   "id": "33013d4d",
   "metadata": {
    "papermill": {
     "duration": 0.007354,
     "end_time": "2023-07-01T08:20:20.107701",
     "exception": false,
     "start_time": "2023-07-01T08:20:20.100347",
     "status": "completed"
    },
    "tags": []
   },
   "source": [
    "## Step 3: Specify and Fit Model\n",
    "Create a `DecisionTreeRegressor` and save it iowa_model. Ensure you've done the relevant import from sklearn to run this command.\n",
    "\n",
    "Then fit the model you just created using the data in `X` and `y` that you saved above."
   ]
  },
  {
   "cell_type": "code",
   "execution_count": 8,
   "id": "4db40a99",
   "metadata": {
    "execution": {
     "iopub.execute_input": "2023-07-01T08:20:20.124722Z",
     "iopub.status.busy": "2023-07-01T08:20:20.124334Z",
     "iopub.status.idle": "2023-07-01T08:20:20.146217Z",
     "shell.execute_reply": "2023-07-01T08:20:20.144958Z"
    },
    "papermill": {
     "duration": 0.033491,
     "end_time": "2023-07-01T08:20:20.148824",
     "exception": false,
     "start_time": "2023-07-01T08:20:20.115333",
     "status": "completed"
    },
    "tags": []
   },
   "outputs": [
    {
     "data": {
      "application/javascript": [
       "parent.postMessage({\"jupyterEvent\": \"custom.exercise_interaction\", \"data\": {\"outcomeType\": 1, \"valueTowardsCompletion\": 0.25, \"interactionType\": 1, \"questionType\": 2, \"questionId\": \"3_CreateModel\", \"learnToolsVersion\": \"0.3.4\", \"failureMessage\": \"\", \"exceptionClass\": \"\", \"trace\": \"\"}}, \"*\")"
      ],
      "text/plain": [
       "<IPython.core.display.Javascript object>"
      ]
     },
     "metadata": {},
     "output_type": "display_data"
    },
    {
     "data": {
      "text/markdown": [
       "<span style=\"color:#33cc33\">Correct</span>"
      ],
      "text/plain": [
       "Correct"
      ]
     },
     "metadata": {},
     "output_type": "display_data"
    }
   ],
   "source": [
    "from sklearn.tree import DecisionTreeRegressor\n",
    "iowa_model = DecisionTreeRegressor(random_state=1)\n",
    "iowa_model.fit(X, y)\n",
    "# Check your answer\n",
    "step_3.check()"
   ]
  },
  {
   "cell_type": "code",
   "execution_count": 9,
   "id": "7266fc4f",
   "metadata": {
    "execution": {
     "iopub.execute_input": "2023-07-01T08:20:20.166846Z",
     "iopub.status.busy": "2023-07-01T08:20:20.166407Z",
     "iopub.status.idle": "2023-07-01T08:20:20.171351Z",
     "shell.execute_reply": "2023-07-01T08:20:20.170265Z"
    },
    "papermill": {
     "duration": 0.016901,
     "end_time": "2023-07-01T08:20:20.173736",
     "exception": false,
     "start_time": "2023-07-01T08:20:20.156835",
     "status": "completed"
    },
    "tags": []
   },
   "outputs": [],
   "source": [
    "# step_3.hint()\n",
    "# step_3.solution()"
   ]
  },
  {
   "cell_type": "markdown",
   "id": "df6439f2",
   "metadata": {
    "papermill": {
     "duration": 0.007858,
     "end_time": "2023-07-01T08:20:20.189725",
     "exception": false,
     "start_time": "2023-07-01T08:20:20.181867",
     "status": "completed"
    },
    "tags": []
   },
   "source": [
    "## Step 4: Make Predictions\n",
    "Make predictions with the model's `predict` command using `X` as the data. Save the results to a variable called `predictions`."
   ]
  },
  {
   "cell_type": "code",
   "execution_count": 10,
   "id": "6e44b4c5",
   "metadata": {
    "execution": {
     "iopub.execute_input": "2023-07-01T08:20:20.207454Z",
     "iopub.status.busy": "2023-07-01T08:20:20.207050Z",
     "iopub.status.idle": "2023-07-01T08:20:20.222391Z",
     "shell.execute_reply": "2023-07-01T08:20:20.220935Z"
    },
    "papermill": {
     "duration": 0.027721,
     "end_time": "2023-07-01T08:20:20.225375",
     "exception": false,
     "start_time": "2023-07-01T08:20:20.197654",
     "status": "completed"
    },
    "tags": []
   },
   "outputs": [
    {
     "name": "stdout",
     "output_type": "stream",
     "text": [
      "[208500. 181500. 223500. ... 266500. 142125. 147500.]\n"
     ]
    },
    {
     "data": {
      "application/javascript": [
       "parent.postMessage({\"jupyterEvent\": \"custom.exercise_interaction\", \"data\": {\"outcomeType\": 1, \"valueTowardsCompletion\": 0.25, \"interactionType\": 1, \"questionType\": 2, \"questionId\": \"4_MakePredictions\", \"learnToolsVersion\": \"0.3.4\", \"failureMessage\": \"\", \"exceptionClass\": \"\", \"trace\": \"\"}}, \"*\")"
      ],
      "text/plain": [
       "<IPython.core.display.Javascript object>"
      ]
     },
     "metadata": {},
     "output_type": "display_data"
    },
    {
     "data": {
      "text/markdown": [
       "<span style=\"color:#33cc33\">Correct</span>"
      ],
      "text/plain": [
       "Correct"
      ]
     },
     "metadata": {},
     "output_type": "display_data"
    }
   ],
   "source": [
    "predictions = iowa_model.predict(X)\n",
    "print(predictions)\n",
    "\n",
    "# Check your answer\n",
    "step_4.check()"
   ]
  },
  {
   "cell_type": "code",
   "execution_count": 11,
   "id": "d8772b5b",
   "metadata": {
    "execution": {
     "iopub.execute_input": "2023-07-01T08:20:20.244616Z",
     "iopub.status.busy": "2023-07-01T08:20:20.244220Z",
     "iopub.status.idle": "2023-07-01T08:20:20.248549Z",
     "shell.execute_reply": "2023-07-01T08:20:20.247605Z"
    },
    "papermill": {
     "duration": 0.016535,
     "end_time": "2023-07-01T08:20:20.250757",
     "exception": false,
     "start_time": "2023-07-01T08:20:20.234222",
     "status": "completed"
    },
    "tags": []
   },
   "outputs": [],
   "source": [
    "# step_4.hint()\n",
    "#step_4.solution()"
   ]
  },
  {
   "cell_type": "markdown",
   "id": "b1401abd",
   "metadata": {
    "papermill": {
     "duration": 0.008184,
     "end_time": "2023-07-01T08:20:20.267448",
     "exception": false,
     "start_time": "2023-07-01T08:20:20.259264",
     "status": "completed"
    },
    "tags": []
   },
   "source": [
    "## Think About Your Results\n",
    "\n",
    "Use the `head` method to compare the top few predictions to the actual home values (in `y`) for those same homes. Anything surprising?\n"
   ]
  },
  {
   "cell_type": "code",
   "execution_count": 12,
   "id": "9102431a",
   "metadata": {
    "execution": {
     "iopub.execute_input": "2023-07-01T08:20:20.286761Z",
     "iopub.status.busy": "2023-07-01T08:20:20.286347Z",
     "iopub.status.idle": "2023-07-01T08:20:20.296763Z",
     "shell.execute_reply": "2023-07-01T08:20:20.295316Z"
    },
    "papermill": {
     "duration": 0.023615,
     "end_time": "2023-07-01T08:20:20.299544",
     "exception": false,
     "start_time": "2023-07-01T08:20:20.275929",
     "status": "completed"
    },
    "tags": []
   },
   "outputs": [
    {
     "data": {
      "text/plain": [
       "0       208500\n",
       "1       181500\n",
       "2       223500\n",
       "3       140000\n",
       "4       250000\n",
       "         ...  \n",
       "1455    175000\n",
       "1456    210000\n",
       "1457    266500\n",
       "1458    142125\n",
       "1459    147500\n",
       "Name: SalePrice, Length: 1460, dtype: int64"
      ]
     },
     "execution_count": 12,
     "metadata": {},
     "output_type": "execute_result"
    }
   ],
   "source": [
    "# You can write code in this cell\n",
    "y"
   ]
  },
  {
   "cell_type": "markdown",
   "id": "f99863d4",
   "metadata": {
    "papermill": {
     "duration": 0.008545,
     "end_time": "2023-07-01T08:20:20.317157",
     "exception": false,
     "start_time": "2023-07-01T08:20:20.308612",
     "status": "completed"
    },
    "tags": []
   },
   "source": [
    "It's natural to ask how accurate the model's predictions will be and how you can improve that. That will be you're next step.\n",
    "\n",
    "# Keep Going\n",
    "\n",
    "You are ready for **[Model Validation](https://www.kaggle.com/dansbecker/model-validation).**\n"
   ]
  },
  {
   "cell_type": "markdown",
   "id": "22f15548",
   "metadata": {
    "papermill": {
     "duration": 0.008333,
     "end_time": "2023-07-01T08:20:20.334138",
     "exception": false,
     "start_time": "2023-07-01T08:20:20.325805",
     "status": "completed"
    },
    "tags": []
   },
   "source": [
    "---\n",
    "\n",
    "\n",
    "\n",
    "\n",
    "*Have questions or comments? Visit the [course discussion forum](https://www.kaggle.com/learn/intro-to-machine-learning/discussion) to chat with other learners.*"
   ]
  }
 ],
 "metadata": {
  "kernelspec": {
   "display_name": "Python 3",
   "language": "python",
   "name": "python3"
  },
  "language_info": {
   "codemirror_mode": {
    "name": "ipython",
    "version": 3
   },
   "file_extension": ".py",
   "mimetype": "text/x-python",
   "name": "python",
   "nbconvert_exporter": "python",
   "pygments_lexer": "ipython3",
   "version": "3.10.10"
  },
  "papermill": {
   "default_parameters": {},
   "duration": 16.65484,
   "end_time": "2023-07-01T08:20:21.369129",
   "environment_variables": {},
   "exception": null,
   "input_path": "__notebook__.ipynb",
   "output_path": "__notebook__.ipynb",
   "parameters": {},
   "start_time": "2023-07-01T08:20:04.714289",
   "version": "2.4.0"
  }
 },
 "nbformat": 4,
 "nbformat_minor": 5
}
