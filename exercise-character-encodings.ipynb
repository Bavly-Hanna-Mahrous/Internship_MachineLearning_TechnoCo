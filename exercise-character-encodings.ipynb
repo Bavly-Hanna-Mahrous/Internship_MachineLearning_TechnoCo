{
 "cells": [
  {
   "cell_type": "markdown",
   "id": "112ae955",
   "metadata": {
    "papermill": {
     "duration": 0.006441,
     "end_time": "2023-06-29T22:44:43.729758",
     "exception": false,
     "start_time": "2023-06-29T22:44:43.723317",
     "status": "completed"
    },
    "tags": []
   },
   "source": [
    "**This notebook is an exercise in the [Data Cleaning](https://www.kaggle.com/learn/data-cleaning) course.  You can reference the tutorial at [this link](https://www.kaggle.com/alexisbcook/character-encodings).**\n",
    "\n",
    "---\n"
   ]
  },
  {
   "cell_type": "markdown",
   "id": "f71567ae",
   "metadata": {
    "papermill": {
     "duration": 0.005409,
     "end_time": "2023-06-29T22:44:43.741125",
     "exception": false,
     "start_time": "2023-06-29T22:44:43.735716",
     "status": "completed"
    },
    "tags": []
   },
   "source": [
    "In this exercise, you'll apply what you learned in the **Character encodings** tutorial.\n",
    "\n",
    "# Setup\n",
    "\n",
    "The questions below will give you feedback on your work. Run the following cell to set up the feedback system."
   ]
  },
  {
   "cell_type": "code",
   "execution_count": 1,
   "id": "5e386f4f",
   "metadata": {
    "execution": {
     "iopub.execute_input": "2023-06-29T22:44:43.754619Z",
     "iopub.status.busy": "2023-06-29T22:44:43.754229Z",
     "iopub.status.idle": "2023-06-29T22:44:43.837335Z",
     "shell.execute_reply": "2023-06-29T22:44:43.836262Z"
    },
    "papermill": {
     "duration": 0.093105,
     "end_time": "2023-06-29T22:44:43.839955",
     "exception": false,
     "start_time": "2023-06-29T22:44:43.746850",
     "status": "completed"
    },
    "tags": []
   },
   "outputs": [
    {
     "name": "stdout",
     "output_type": "stream",
     "text": [
      "Setup Complete\n"
     ]
    }
   ],
   "source": [
    "from learntools.core import binder\n",
    "binder.bind(globals())\n",
    "from learntools.data_cleaning.ex4 import *\n",
    "print(\"Setup Complete\")"
   ]
  },
  {
   "cell_type": "markdown",
   "id": "3a6ce336",
   "metadata": {
    "papermill": {
     "duration": 0.005711,
     "end_time": "2023-06-29T22:44:43.851626",
     "exception": false,
     "start_time": "2023-06-29T22:44:43.845915",
     "status": "completed"
    },
    "tags": []
   },
   "source": [
    "# Get our environment set up\n",
    "\n",
    "The first thing we'll need to do is load in the libraries we'll be using."
   ]
  },
  {
   "cell_type": "code",
   "execution_count": 2,
   "id": "4ef8b24c",
   "metadata": {
    "execution": {
     "iopub.execute_input": "2023-06-29T22:44:43.865619Z",
     "iopub.status.busy": "2023-06-29T22:44:43.864491Z",
     "iopub.status.idle": "2023-06-29T22:44:43.870077Z",
     "shell.execute_reply": "2023-06-29T22:44:43.869363Z"
    },
    "papermill": {
     "duration": 0.01479,
     "end_time": "2023-06-29T22:44:43.872220",
     "exception": false,
     "start_time": "2023-06-29T22:44:43.857430",
     "status": "completed"
    },
    "tags": []
   },
   "outputs": [],
   "source": [
    "# modules we'll use\n",
    "import pandas as pd\n",
    "import numpy as np\n",
    "\n",
    "# helpful character encoding module\n",
    "import charset_normalizer\n",
    "\n",
    "# set seed for reproducibility\n",
    "np.random.seed(0)"
   ]
  },
  {
   "cell_type": "markdown",
   "id": "4d3ef8f6",
   "metadata": {
    "papermill": {
     "duration": 0.007061,
     "end_time": "2023-06-29T22:44:43.885083",
     "exception": false,
     "start_time": "2023-06-29T22:44:43.878022",
     "status": "completed"
    },
    "tags": []
   },
   "source": [
    "# 1) What are encodings?\n",
    "\n",
    "You're working with a dataset composed of bytes.  Run the code cell below to print a sample entry."
   ]
  },
  {
   "cell_type": "code",
   "execution_count": 3,
   "id": "7418d959",
   "metadata": {
    "execution": {
     "iopub.execute_input": "2023-06-29T22:44:43.898349Z",
     "iopub.status.busy": "2023-06-29T22:44:43.897432Z",
     "iopub.status.idle": "2023-06-29T22:44:43.904419Z",
     "shell.execute_reply": "2023-06-29T22:44:43.902909Z"
    },
    "papermill": {
     "duration": 0.016184,
     "end_time": "2023-06-29T22:44:43.906893",
     "exception": false,
     "start_time": "2023-06-29T22:44:43.890709",
     "status": "completed"
    },
    "tags": []
   },
   "outputs": [
    {
     "name": "stdout",
     "output_type": "stream",
     "text": [
      "b'\\xa7A\\xa6n'\n",
      "data type: <class 'bytes'>\n"
     ]
    }
   ],
   "source": [
    "sample_entry = b'\\xa7A\\xa6n'\n",
    "print(sample_entry)\n",
    "print('data type:', type(sample_entry))"
   ]
  },
  {
   "cell_type": "markdown",
   "id": "63200286",
   "metadata": {
    "papermill": {
     "duration": 0.005809,
     "end_time": "2023-06-29T22:44:43.919013",
     "exception": false,
     "start_time": "2023-06-29T22:44:43.913204",
     "status": "completed"
    },
    "tags": []
   },
   "source": [
    "You notice that it doesn't use the standard UTF-8 encoding. \n",
    "\n",
    "Use the next code cell to create a variable `new_entry` that changes the encoding from `\"big5-tw\"` to `\"utf-8\"`.  `new_entry` should have the bytes datatype."
   ]
  },
  {
   "cell_type": "code",
   "execution_count": 4,
   "id": "78c81ffb",
   "metadata": {
    "execution": {
     "iopub.execute_input": "2023-06-29T22:44:43.933303Z",
     "iopub.status.busy": "2023-06-29T22:44:43.932220Z",
     "iopub.status.idle": "2023-06-29T22:44:43.944521Z",
     "shell.execute_reply": "2023-06-29T22:44:43.943600Z"
    },
    "papermill": {
     "duration": 0.021746,
     "end_time": "2023-06-29T22:44:43.946747",
     "exception": false,
     "start_time": "2023-06-29T22:44:43.925001",
     "status": "completed"
    },
    "tags": []
   },
   "outputs": [
    {
     "data": {
      "application/javascript": [
       "parent.postMessage({\"jupyterEvent\": \"custom.exercise_interaction\", \"data\": {\"outcomeType\": 1, \"valueTowardsCompletion\": 0.3333333333333333, \"interactionType\": 1, \"questionType\": 1, \"questionId\": \"1_EncodingsIntro\", \"learnToolsVersion\": \"0.3.4\", \"failureMessage\": \"\", \"exceptionClass\": \"\", \"trace\": \"\"}}, \"*\")"
      ],
      "text/plain": [
       "<IPython.core.display.Javascript object>"
      ]
     },
     "metadata": {},
     "output_type": "display_data"
    },
    {
     "data": {
      "text/markdown": [
       "<span style=\"color:#33cc33\">Correct</span>"
      ],
      "text/plain": [
       "Correct"
      ]
     },
     "metadata": {},
     "output_type": "display_data"
    }
   ],
   "source": [
    "before = sample_entry.decode(\"big5-tw\")\n",
    "new_entry = before.encode()\n",
    "\n",
    "# Check your answer\n",
    "q1.check()"
   ]
  },
  {
   "cell_type": "code",
   "execution_count": 5,
   "id": "40605145",
   "metadata": {
    "execution": {
     "iopub.execute_input": "2023-06-29T22:44:43.961324Z",
     "iopub.status.busy": "2023-06-29T22:44:43.960308Z",
     "iopub.status.idle": "2023-06-29T22:44:43.964980Z",
     "shell.execute_reply": "2023-06-29T22:44:43.964164Z"
    },
    "papermill": {
     "duration": 0.014209,
     "end_time": "2023-06-29T22:44:43.967190",
     "exception": false,
     "start_time": "2023-06-29T22:44:43.952981",
     "status": "completed"
    },
    "tags": []
   },
   "outputs": [],
   "source": [
    "# Lines below will give you a hint or solution code\n",
    "#q1.hint()\n",
    "#q1.solution()"
   ]
  },
  {
   "cell_type": "markdown",
   "id": "aa4c280b",
   "metadata": {
    "papermill": {
     "duration": 0.006348,
     "end_time": "2023-06-29T22:44:43.980043",
     "exception": false,
     "start_time": "2023-06-29T22:44:43.973695",
     "status": "completed"
    },
    "tags": []
   },
   "source": [
    "# 2) Reading in files with encoding problems\n",
    "\n",
    "Use the code cell below to read in this file at path `\"../input/fatal-police-shootings-in-the-us/PoliceKillingsUS.csv\"`.  \n",
    "\n",
    "Figure out what the correct encoding should be and read in the file to a DataFrame `police_killings`."
   ]
  },
  {
   "cell_type": "code",
   "execution_count": 6,
   "id": "5329dd2b",
   "metadata": {
    "execution": {
     "iopub.execute_input": "2023-06-29T22:44:43.994885Z",
     "iopub.status.busy": "2023-06-29T22:44:43.994512Z",
     "iopub.status.idle": "2023-06-29T22:44:44.021566Z",
     "shell.execute_reply": "2023-06-29T22:44:44.020586Z"
    },
    "papermill": {
     "duration": 0.037865,
     "end_time": "2023-06-29T22:44:44.024371",
     "exception": false,
     "start_time": "2023-06-29T22:44:43.986506",
     "status": "completed"
    },
    "tags": []
   },
   "outputs": [
    {
     "data": {
      "application/javascript": [
       "parent.postMessage({\"jupyterEvent\": \"custom.exercise_interaction\", \"data\": {\"outcomeType\": 1, \"valueTowardsCompletion\": 0.3333333333333333, \"interactionType\": 1, \"questionType\": 1, \"questionId\": \"2_ReadIn\", \"learnToolsVersion\": \"0.3.4\", \"failureMessage\": \"\", \"exceptionClass\": \"\", \"trace\": \"\"}}, \"*\")"
      ],
      "text/plain": [
       "<IPython.core.display.Javascript object>"
      ]
     },
     "metadata": {},
     "output_type": "display_data"
    },
    {
     "data": {
      "text/markdown": [
       "<span style=\"color:#33cc33\">Correct</span>"
      ],
      "text/plain": [
       "Correct"
      ]
     },
     "metadata": {},
     "output_type": "display_data"
    }
   ],
   "source": [
    "# TODO: Load in the DataFrame correctly.\n",
    "police_killings = pd.read_csv(\"../input/fatal-police-shootings-in-the-us/PoliceKillingsUS.csv\", encoding='Windows-1252')\n",
    "\n",
    "# Check your answer\n",
    "q2.check()"
   ]
  },
  {
   "cell_type": "markdown",
   "id": "1257e6ba",
   "metadata": {
    "papermill": {
     "duration": 0.006651,
     "end_time": "2023-06-29T22:44:44.037788",
     "exception": false,
     "start_time": "2023-06-29T22:44:44.031137",
     "status": "completed"
    },
    "tags": []
   },
   "source": [
    "Feel free to use any additional code cells for supplemental work.  To get credit for finishing this question, you'll need to run `q2.check()` and get a result of **Correct**."
   ]
  },
  {
   "cell_type": "code",
   "execution_count": 7,
   "id": "68f717e8",
   "metadata": {
    "execution": {
     "iopub.execute_input": "2023-06-29T22:44:44.053177Z",
     "iopub.status.busy": "2023-06-29T22:44:44.052822Z",
     "iopub.status.idle": "2023-06-29T22:44:44.057037Z",
     "shell.execute_reply": "2023-06-29T22:44:44.055997Z"
    },
    "papermill": {
     "duration": 0.014535,
     "end_time": "2023-06-29T22:44:44.059212",
     "exception": false,
     "start_time": "2023-06-29T22:44:44.044677",
     "status": "completed"
    },
    "tags": []
   },
   "outputs": [],
   "source": [
    "# (Optional) Use this code cell for any additional work."
   ]
  },
  {
   "cell_type": "code",
   "execution_count": 8,
   "id": "81be36e7",
   "metadata": {
    "execution": {
     "iopub.execute_input": "2023-06-29T22:44:44.074579Z",
     "iopub.status.busy": "2023-06-29T22:44:44.073671Z",
     "iopub.status.idle": "2023-06-29T22:44:44.078141Z",
     "shell.execute_reply": "2023-06-29T22:44:44.077411Z"
    },
    "papermill": {
     "duration": 0.014313,
     "end_time": "2023-06-29T22:44:44.080195",
     "exception": false,
     "start_time": "2023-06-29T22:44:44.065882",
     "status": "completed"
    },
    "tags": []
   },
   "outputs": [],
   "source": [
    "# Lines below will give you a hint or solution code\n",
    "#q2.hint()\n",
    "#q2.solution()"
   ]
  },
  {
   "cell_type": "markdown",
   "id": "10322490",
   "metadata": {
    "papermill": {
     "duration": 0.006456,
     "end_time": "2023-06-29T22:44:44.093614",
     "exception": false,
     "start_time": "2023-06-29T22:44:44.087158",
     "status": "completed"
    },
    "tags": []
   },
   "source": [
    "# 3) Saving your files with UTF-8 encoding\n",
    "\n",
    "Save a version of the police killings dataset to CSV with UTF-8 encoding.  Your answer will be marked correct after saving this file.  \n",
    "\n",
    "Note: When using the `to_csv()` method, supply only the name of the file (e.g., `\"my_file.csv\"`).  This saves the file at the filepath `\"/kaggle/working/my_file.csv\"`."
   ]
  },
  {
   "cell_type": "code",
   "execution_count": 9,
   "id": "9ae8a0b2",
   "metadata": {
    "execution": {
     "iopub.execute_input": "2023-06-29T22:44:44.109010Z",
     "iopub.status.busy": "2023-06-29T22:44:44.108187Z",
     "iopub.status.idle": "2023-06-29T22:44:44.163410Z",
     "shell.execute_reply": "2023-06-29T22:44:44.162482Z"
    },
    "papermill": {
     "duration": 0.065726,
     "end_time": "2023-06-29T22:44:44.165857",
     "exception": false,
     "start_time": "2023-06-29T22:44:44.100131",
     "status": "completed"
    },
    "tags": []
   },
   "outputs": [
    {
     "data": {
      "application/javascript": [
       "parent.postMessage({\"jupyterEvent\": \"custom.exercise_interaction\", \"data\": {\"outcomeType\": 1, \"valueTowardsCompletion\": 0.3333333333333333, \"interactionType\": 1, \"questionType\": 2, \"questionId\": \"3_SaveCSV\", \"learnToolsVersion\": \"0.3.4\", \"failureMessage\": \"\", \"exceptionClass\": \"\", \"trace\": \"\"}}, \"*\")"
      ],
      "text/plain": [
       "<IPython.core.display.Javascript object>"
      ]
     },
     "metadata": {},
     "output_type": "display_data"
    },
    {
     "data": {
      "text/markdown": [
       "<span style=\"color:#33cc33\">Correct</span>"
      ],
      "text/plain": [
       "Correct"
      ]
     },
     "metadata": {},
     "output_type": "display_data"
    }
   ],
   "source": [
    "# TODO: Save the police killings dataset to CSV\n",
    "police_killings.to_csv(\"my_file.csv\")\n",
    "\n",
    "\n",
    "# Check your answer\n",
    "q3.check()"
   ]
  },
  {
   "cell_type": "code",
   "execution_count": 10,
   "id": "8c6e5772",
   "metadata": {
    "execution": {
     "iopub.execute_input": "2023-06-29T22:44:44.183575Z",
     "iopub.status.busy": "2023-06-29T22:44:44.183069Z",
     "iopub.status.idle": "2023-06-29T22:44:44.187796Z",
     "shell.execute_reply": "2023-06-29T22:44:44.186665Z"
    },
    "papermill": {
     "duration": 0.017091,
     "end_time": "2023-06-29T22:44:44.189976",
     "exception": false,
     "start_time": "2023-06-29T22:44:44.172885",
     "status": "completed"
    },
    "tags": []
   },
   "outputs": [],
   "source": [
    "# Lines below will give you a hint or solution code\n",
    "#q3.hint()\n",
    "#q3.solution()"
   ]
  },
  {
   "cell_type": "markdown",
   "id": "1ffe964b",
   "metadata": {
    "papermill": {
     "duration": 0.006905,
     "end_time": "2023-06-29T22:44:44.204033",
     "exception": false,
     "start_time": "2023-06-29T22:44:44.197128",
     "status": "completed"
    },
    "tags": []
   },
   "source": [
    "# (Optional) More practice\n",
    "\n",
    "Check out [this dataset of files in different character encodings](https://www.kaggle.com/rtatman/character-encoding-examples). Can you read in all the files with their original encodings and them save them out as UTF-8 files?\n",
    "\n",
    "If you have a file that's in UTF-8 but has just a couple of weird-looking characters in it, you can try out the [ftfy module](https://ftfy.readthedocs.io/en/latest/#) and see if it helps. \n",
    "\n",
    "# Keep going\n",
    "\n",
    "In the final lesson, learn how to [**clean up inconsistent text entries**](https://www.kaggle.com/alexisbcook/inconsistent-data-entry) in your dataset."
   ]
  },
  {
   "cell_type": "markdown",
   "id": "40729348",
   "metadata": {
    "papermill": {
     "duration": 0.006924,
     "end_time": "2023-06-29T22:44:44.218123",
     "exception": false,
     "start_time": "2023-06-29T22:44:44.211199",
     "status": "completed"
    },
    "tags": []
   },
   "source": [
    "---\n",
    "\n",
    "\n",
    "\n",
    "\n",
    "*Have questions or comments? Visit the [course discussion forum](https://www.kaggle.com/learn/data-cleaning/discussion) to chat with other learners.*"
   ]
  }
 ],
 "metadata": {
  "kernelspec": {
   "display_name": "Python 3",
   "language": "python",
   "name": "python3"
  },
  "language_info": {
   "codemirror_mode": {
    "name": "ipython",
    "version": 3
   },
   "file_extension": ".py",
   "mimetype": "text/x-python",
   "name": "python",
   "nbconvert_exporter": "python",
   "pygments_lexer": "ipython3",
   "version": "3.10.10"
  },
  "papermill": {
   "default_parameters": {},
   "duration": 12.755552,
   "end_time": "2023-06-29T22:44:45.047046",
   "environment_variables": {},
   "exception": null,
   "input_path": "__notebook__.ipynb",
   "output_path": "__notebook__.ipynb",
   "parameters": {},
   "start_time": "2023-06-29T22:44:32.291494",
   "version": "2.4.0"
  }
 },
 "nbformat": 4,
 "nbformat_minor": 5
}
