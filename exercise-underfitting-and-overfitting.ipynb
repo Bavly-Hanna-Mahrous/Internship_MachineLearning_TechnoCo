{
 "cells": [
  {
   "cell_type": "markdown",
   "id": "d83ac0b1",
   "metadata": {
    "papermill": {
     "duration": 0.004079,
     "end_time": "2023-07-01T08:26:09.224354",
     "exception": false,
     "start_time": "2023-07-01T08:26:09.220275",
     "status": "completed"
    },
    "tags": []
   },
   "source": [
    "**This notebook is an exercise in the [Introduction to Machine Learning](https://www.kaggle.com/learn/intro-to-machine-learning) course.  You can reference the tutorial at [this link](https://www.kaggle.com/dansbecker/underfitting-and-overfitting).**\n",
    "\n",
    "---\n"
   ]
  },
  {
   "cell_type": "markdown",
   "id": "7c5706dd",
   "metadata": {
    "papermill": {
     "duration": 0.002507,
     "end_time": "2023-07-01T08:26:09.229777",
     "exception": false,
     "start_time": "2023-07-01T08:26:09.227270",
     "status": "completed"
    },
    "tags": []
   },
   "source": [
    "## Recap\n",
    "You've built your first model, and now it's time to optimize the size of the tree to make better predictions. Run this cell to set up your coding environment where the previous step left off."
   ]
  },
  {
   "cell_type": "code",
   "execution_count": 1,
   "id": "143aa99d",
   "metadata": {
    "execution": {
     "iopub.execute_input": "2023-07-01T08:26:09.237374Z",
     "iopub.status.busy": "2023-07-01T08:26:09.236593Z",
     "iopub.status.idle": "2023-07-01T08:26:10.914886Z",
     "shell.execute_reply": "2023-07-01T08:26:10.914084Z"
    },
    "papermill": {
     "duration": 1.684824,
     "end_time": "2023-07-01T08:26:10.917280",
     "exception": false,
     "start_time": "2023-07-01T08:26:09.232456",
     "status": "completed"
    },
    "tags": []
   },
   "outputs": [
    {
     "name": "stdout",
     "output_type": "stream",
     "text": [
      "Validation MAE: 29,653\n",
      "\n",
      "Setup complete\n"
     ]
    }
   ],
   "source": [
    "# Code you have previously used to load data\n",
    "import pandas as pd\n",
    "from sklearn.metrics import mean_absolute_error\n",
    "from sklearn.model_selection import train_test_split\n",
    "from sklearn.tree import DecisionTreeRegressor\n",
    "\n",
    "\n",
    "# Path of the file to read\n",
    "iowa_file_path = '../input/home-data-for-ml-course/train.csv'\n",
    "\n",
    "home_data = pd.read_csv(iowa_file_path)\n",
    "# Create target object and call it y\n",
    "y = home_data.SalePrice\n",
    "# Create X\n",
    "features = ['LotArea', 'YearBuilt', '1stFlrSF', '2ndFlrSF', 'FullBath', 'BedroomAbvGr', 'TotRmsAbvGrd']\n",
    "X = home_data[features]\n",
    "\n",
    "# Split into validation and training data\n",
    "train_X, val_X, train_y, val_y = train_test_split(X, y, random_state=1)\n",
    "\n",
    "# Specify Model\n",
    "iowa_model = DecisionTreeRegressor(random_state=1)\n",
    "# Fit Model\n",
    "iowa_model.fit(train_X, train_y)\n",
    "\n",
    "# Make validation predictions and calculate mean absolute error\n",
    "val_predictions = iowa_model.predict(val_X)\n",
    "val_mae = mean_absolute_error(val_predictions, val_y)\n",
    "print(\"Validation MAE: {:,.0f}\".format(val_mae))\n",
    "\n",
    "# Set up code checking\n",
    "from learntools.core import binder\n",
    "binder.bind(globals())\n",
    "from learntools.machine_learning.ex5 import *\n",
    "print(\"\\nSetup complete\")"
   ]
  },
  {
   "cell_type": "markdown",
   "id": "9973029a",
   "metadata": {
    "papermill": {
     "duration": 0.003303,
     "end_time": "2023-07-01T08:26:10.924068",
     "exception": false,
     "start_time": "2023-07-01T08:26:10.920765",
     "status": "completed"
    },
    "tags": []
   },
   "source": [
    "# Exercises\n",
    "You could write the function `get_mae` yourself. For now, we'll supply it. This is the same function you read about in the previous lesson. Just run the cell below."
   ]
  },
  {
   "cell_type": "code",
   "execution_count": 2,
   "id": "35a98ad2",
   "metadata": {
    "execution": {
     "iopub.execute_input": "2023-07-01T08:26:10.935088Z",
     "iopub.status.busy": "2023-07-01T08:26:10.933759Z",
     "iopub.status.idle": "2023-07-01T08:26:10.940999Z",
     "shell.execute_reply": "2023-07-01T08:26:10.939579Z"
    },
    "papermill": {
     "duration": 0.014737,
     "end_time": "2023-07-01T08:26:10.943406",
     "exception": false,
     "start_time": "2023-07-01T08:26:10.928669",
     "status": "completed"
    },
    "tags": []
   },
   "outputs": [],
   "source": [
    "def get_mae(max_leaf_nodes, train_X, val_X, train_y, val_y):\n",
    "    model = DecisionTreeRegressor(max_leaf_nodes=max_leaf_nodes, random_state=0)\n",
    "    model.fit(train_X, train_y)\n",
    "    preds_val = model.predict(val_X)\n",
    "    mae = mean_absolute_error(val_y, preds_val)\n",
    "    return(mae)"
   ]
  },
  {
   "cell_type": "markdown",
   "id": "6245dfab",
   "metadata": {
    "papermill": {
     "duration": 0.00285,
     "end_time": "2023-07-01T08:26:10.949495",
     "exception": false,
     "start_time": "2023-07-01T08:26:10.946645",
     "status": "completed"
    },
    "tags": []
   },
   "source": [
    "## Step 1: Compare Different Tree Sizes\n",
    "Write a loop that tries the following values for *max_leaf_nodes* from a set of possible values.\n",
    "\n",
    "Call the *get_mae* function on each value of max_leaf_nodes. Store the output in some way that allows you to select the value of `max_leaf_nodes` that gives the most accurate model on your data."
   ]
  },
  {
   "cell_type": "code",
   "execution_count": 3,
   "id": "96a53f64",
   "metadata": {
    "execution": {
     "iopub.execute_input": "2023-07-01T08:26:10.958815Z",
     "iopub.status.busy": "2023-07-01T08:26:10.958475Z",
     "iopub.status.idle": "2023-07-01T08:26:11.003128Z",
     "shell.execute_reply": "2023-07-01T08:26:11.002193Z"
    },
    "papermill": {
     "duration": 0.05275,
     "end_time": "2023-07-01T08:26:11.005248",
     "exception": false,
     "start_time": "2023-07-01T08:26:10.952498",
     "status": "completed"
    },
    "tags": []
   },
   "outputs": [
    {
     "data": {
      "application/javascript": [
       "parent.postMessage({\"jupyterEvent\": \"custom.exercise_interaction\", \"data\": {\"outcomeType\": 1, \"valueTowardsCompletion\": 0.5, \"interactionType\": 1, \"questionType\": 1, \"questionId\": \"1_BestTreeSize\", \"learnToolsVersion\": \"0.3.4\", \"failureMessage\": \"\", \"exceptionClass\": \"\", \"trace\": \"\"}}, \"*\")"
      ],
      "text/plain": [
       "<IPython.core.display.Javascript object>"
      ]
     },
     "metadata": {},
     "output_type": "display_data"
    },
    {
     "data": {
      "text/markdown": [
       "<span style=\"color:#33cc33\">Correct</span>"
      ],
      "text/plain": [
       "Correct"
      ]
     },
     "metadata": {},
     "output_type": "display_data"
    }
   ],
   "source": [
    "candidate_max_leaf_nodes = [5, 25, 50, 100, 250, 500]\n",
    "# Here is a short solution with a dict comprehension.\n",
    "# The lesson gives an example of how to do this with an explicit loop.\n",
    "scores = {leaf_size: get_mae(leaf_size, train_X, val_X, train_y, val_y) for leaf_size in candidate_max_leaf_nodes}\n",
    "best_tree_size = min(scores, key=scores.get)\n",
    "# Check your answer\n",
    "step_1.check()"
   ]
  },
  {
   "cell_type": "code",
   "execution_count": 4,
   "id": "9a3131e8",
   "metadata": {
    "execution": {
     "iopub.execute_input": "2023-07-01T08:26:11.013499Z",
     "iopub.status.busy": "2023-07-01T08:26:11.013152Z",
     "iopub.status.idle": "2023-07-01T08:26:11.017755Z",
     "shell.execute_reply": "2023-07-01T08:26:11.016625Z"
    },
    "papermill": {
     "duration": 0.011105,
     "end_time": "2023-07-01T08:26:11.019745",
     "exception": false,
     "start_time": "2023-07-01T08:26:11.008640",
     "status": "completed"
    },
    "tags": []
   },
   "outputs": [],
   "source": [
    "# The lines below will show you a hint or the solution.\n",
    "# step_1.hint() \n",
    "# step_1.solution()"
   ]
  },
  {
   "cell_type": "markdown",
   "id": "0aef7ba3",
   "metadata": {
    "papermill": {
     "duration": 0.002984,
     "end_time": "2023-07-01T08:26:11.027604",
     "exception": false,
     "start_time": "2023-07-01T08:26:11.024620",
     "status": "completed"
    },
    "tags": []
   },
   "source": [
    "## Step 2: Fit Model Using All Data\n",
    "You know the best tree size. If you were going to deploy this model in practice, you would make it even more accurate by using all of the data and keeping that tree size.  That is, you don't need to hold out the validation data now that you've made all your modeling decisions."
   ]
  },
  {
   "cell_type": "code",
   "execution_count": 5,
   "id": "0e52736c",
   "metadata": {
    "execution": {
     "iopub.execute_input": "2023-07-01T08:26:11.035650Z",
     "iopub.status.busy": "2023-07-01T08:26:11.035245Z",
     "iopub.status.idle": "2023-07-01T08:26:11.050943Z",
     "shell.execute_reply": "2023-07-01T08:26:11.050017Z"
    },
    "papermill": {
     "duration": 0.021853,
     "end_time": "2023-07-01T08:26:11.052632",
     "exception": false,
     "start_time": "2023-07-01T08:26:11.030779",
     "status": "completed"
    },
    "tags": []
   },
   "outputs": [
    {
     "data": {
      "application/javascript": [
       "parent.postMessage({\"jupyterEvent\": \"custom.exercise_interaction\", \"data\": {\"outcomeType\": 1, \"valueTowardsCompletion\": 0.5, \"interactionType\": 1, \"questionType\": 2, \"questionId\": \"2_FitModelWithAllData\", \"learnToolsVersion\": \"0.3.4\", \"failureMessage\": \"\", \"exceptionClass\": \"\", \"trace\": \"\"}}, \"*\")"
      ],
      "text/plain": [
       "<IPython.core.display.Javascript object>"
      ]
     },
     "metadata": {},
     "output_type": "display_data"
    },
    {
     "data": {
      "text/markdown": [
       "<span style=\"color:#33cc33\">Correct</span>"
      ],
      "text/plain": [
       "Correct"
      ]
     },
     "metadata": {},
     "output_type": "display_data"
    }
   ],
   "source": [
    "# Fit the model with best_tree_size. Fill in argument to make optimal size\n",
    "final_model = DecisionTreeRegressor(max_leaf_nodes=best_tree_size, random_state=1)\n",
    "\n",
    "# fit the final model\n",
    "final_model.fit(X, y)\n",
    "# Check your answer\n",
    "step_2.check()"
   ]
  },
  {
   "cell_type": "code",
   "execution_count": 6,
   "id": "c843b27d",
   "metadata": {
    "execution": {
     "iopub.execute_input": "2023-07-01T08:26:11.061272Z",
     "iopub.status.busy": "2023-07-01T08:26:11.060864Z",
     "iopub.status.idle": "2023-07-01T08:26:11.066314Z",
     "shell.execute_reply": "2023-07-01T08:26:11.065137Z"
    },
    "papermill": {
     "duration": 0.012139,
     "end_time": "2023-07-01T08:26:11.068191",
     "exception": false,
     "start_time": "2023-07-01T08:26:11.056052",
     "status": "completed"
    },
    "tags": []
   },
   "outputs": [],
   "source": [
    "# step_2.hint()\n",
    "# step_2.solution()"
   ]
  },
  {
   "cell_type": "markdown",
   "id": "915ccf7b",
   "metadata": {
    "papermill": {
     "duration": 0.003264,
     "end_time": "2023-07-01T08:26:11.075168",
     "exception": false,
     "start_time": "2023-07-01T08:26:11.071904",
     "status": "completed"
    },
    "tags": []
   },
   "source": [
    "You've tuned this model and improved your results. But we are still using Decision Tree models, which are not very sophisticated by modern machine learning standards. In the next step you will learn to use Random Forests to improve your models even more.\n",
    "\n",
    "# Keep Going\n",
    "\n",
    "You are ready for **[Random Forests](https://www.kaggle.com/dansbecker/random-forests).**\n"
   ]
  },
  {
   "cell_type": "markdown",
   "id": "b1349135",
   "metadata": {
    "papermill": {
     "duration": 0.003115,
     "end_time": "2023-07-01T08:26:11.081711",
     "exception": false,
     "start_time": "2023-07-01T08:26:11.078596",
     "status": "completed"
    },
    "tags": []
   },
   "source": [
    "---\n",
    "\n",
    "\n",
    "\n",
    "\n",
    "*Have questions or comments? Visit the [course discussion forum](https://www.kaggle.com/learn/intro-to-machine-learning/discussion) to chat with other learners.*"
   ]
  }
 ],
 "metadata": {
  "kernelspec": {
   "display_name": "Python 3",
   "language": "python",
   "name": "python3"
  },
  "language_info": {
   "codemirror_mode": {
    "name": "ipython",
    "version": 3
   },
   "file_extension": ".py",
   "mimetype": "text/x-python",
   "name": "python",
   "nbconvert_exporter": "python",
   "pygments_lexer": "ipython3",
   "version": "3.10.10"
  },
  "papermill": {
   "default_parameters": {},
   "duration": 11.525181,
   "end_time": "2023-07-01T08:26:12.007880",
   "environment_variables": {},
   "exception": null,
   "input_path": "__notebook__.ipynb",
   "output_path": "__notebook__.ipynb",
   "parameters": {},
   "start_time": "2023-07-01T08:26:00.482699",
   "version": "2.4.0"
  }
 },
 "nbformat": 4,
 "nbformat_minor": 5
}
