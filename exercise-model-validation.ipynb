{
 "cells": [
  {
   "cell_type": "markdown",
   "id": "3c98b2d5",
   "metadata": {
    "papermill": {
     "duration": 0.005746,
     "end_time": "2023-07-01T08:23:48.429023",
     "exception": false,
     "start_time": "2023-07-01T08:23:48.423277",
     "status": "completed"
    },
    "tags": []
   },
   "source": [
    "**This notebook is an exercise in the [Introduction to Machine Learning](https://www.kaggle.com/learn/intro-to-machine-learning) course.  You can reference the tutorial at [this link](https://www.kaggle.com/dansbecker/model-validation).**\n",
    "\n",
    "---\n"
   ]
  },
  {
   "cell_type": "markdown",
   "id": "a1e1d723",
   "metadata": {
    "papermill": {
     "duration": 0.003871,
     "end_time": "2023-07-01T08:23:48.438793",
     "exception": false,
     "start_time": "2023-07-01T08:23:48.434922",
     "status": "completed"
    },
    "tags": []
   },
   "source": [
    "## Recap\n",
    "You've built a model. In this exercise you will test how good your model is.\n",
    "\n",
    "Run the cell below to set up your coding environment where the previous exercise left off."
   ]
  },
  {
   "cell_type": "code",
   "execution_count": 1,
   "id": "4d528417",
   "metadata": {
    "execution": {
     "iopub.execute_input": "2023-07-01T08:23:48.449006Z",
     "iopub.status.busy": "2023-07-01T08:23:48.448197Z",
     "iopub.status.idle": "2023-07-01T08:23:50.533813Z",
     "shell.execute_reply": "2023-07-01T08:23:50.532010Z"
    },
    "papermill": {
     "duration": 2.094059,
     "end_time": "2023-07-01T08:23:50.536754",
     "exception": false,
     "start_time": "2023-07-01T08:23:48.442695",
     "status": "completed"
    },
    "tags": []
   },
   "outputs": [
    {
     "name": "stdout",
     "output_type": "stream",
     "text": [
      "First in-sample predictions: [208500. 181500. 223500. 140000. 250000.]\n",
      "Actual target values for those homes: [208500, 181500, 223500, 140000, 250000]\n",
      "Setup Complete\n"
     ]
    }
   ],
   "source": [
    "# Code you have previously used to load data\n",
    "import pandas as pd\n",
    "from sklearn.tree import DecisionTreeRegressor\n",
    "\n",
    "# Path of the file to read\n",
    "iowa_file_path = '../input/home-data-for-ml-course/train.csv'\n",
    "\n",
    "home_data = pd.read_csv(iowa_file_path)\n",
    "y = home_data.SalePrice\n",
    "feature_columns = ['LotArea', 'YearBuilt', '1stFlrSF', '2ndFlrSF', 'FullBath', 'BedroomAbvGr', 'TotRmsAbvGrd']\n",
    "X = home_data[feature_columns]\n",
    "\n",
    "# Specify Model\n",
    "iowa_model = DecisionTreeRegressor()\n",
    "# Fit Model\n",
    "iowa_model.fit(X, y)\n",
    "\n",
    "print(\"First in-sample predictions:\", iowa_model.predict(X.head()))\n",
    "print(\"Actual target values for those homes:\", y.head().tolist())\n",
    "\n",
    "# Set up code checking\n",
    "from learntools.core import binder\n",
    "binder.bind(globals())\n",
    "from learntools.machine_learning.ex4 import *\n",
    "print(\"Setup Complete\")"
   ]
  },
  {
   "cell_type": "markdown",
   "id": "d9647528",
   "metadata": {
    "papermill": {
     "duration": 0.003868,
     "end_time": "2023-07-01T08:23:50.545109",
     "exception": false,
     "start_time": "2023-07-01T08:23:50.541241",
     "status": "completed"
    },
    "tags": []
   },
   "source": [
    "# Exercises\n",
    "\n",
    "## Step 1: Split Your Data\n",
    "Use the `train_test_split` function to split up your data.\n",
    "\n",
    "Give it the argument `random_state=1` so the `check` functions know what to expect when verifying your code.\n",
    "\n",
    "Recall, your features are loaded in the DataFrame **X** and your target is loaded in **y**.\n"
   ]
  },
  {
   "cell_type": "code",
   "execution_count": 2,
   "id": "9e9b0a74",
   "metadata": {
    "execution": {
     "iopub.execute_input": "2023-07-01T08:23:50.555908Z",
     "iopub.status.busy": "2023-07-01T08:23:50.555529Z",
     "iopub.status.idle": "2023-07-01T08:23:50.574249Z",
     "shell.execute_reply": "2023-07-01T08:23:50.572440Z"
    },
    "papermill": {
     "duration": 0.027875,
     "end_time": "2023-07-01T08:23:50.577011",
     "exception": false,
     "start_time": "2023-07-01T08:23:50.549136",
     "status": "completed"
    },
    "tags": []
   },
   "outputs": [
    {
     "data": {
      "application/javascript": [
       "parent.postMessage({\"jupyterEvent\": \"custom.exercise_interaction\", \"data\": {\"outcomeType\": 1, \"valueTowardsCompletion\": 0.25, \"interactionType\": 1, \"questionType\": 2, \"questionId\": \"1_SplitData\", \"learnToolsVersion\": \"0.3.4\", \"failureMessage\": \"\", \"exceptionClass\": \"\", \"trace\": \"\"}}, \"*\")"
      ],
      "text/plain": [
       "<IPython.core.display.Javascript object>"
      ]
     },
     "metadata": {},
     "output_type": "display_data"
    },
    {
     "data": {
      "text/markdown": [
       "<span style=\"color:#33cc33\">Correct</span>"
      ],
      "text/plain": [
       "Correct"
      ]
     },
     "metadata": {},
     "output_type": "display_data"
    }
   ],
   "source": [
    "from sklearn.model_selection import train_test_split\n",
    "train_X, val_X, train_y, val_y = train_test_split(X, y, random_state=1)\n",
    "# Check your answer\n",
    "step_1.check()"
   ]
  },
  {
   "cell_type": "code",
   "execution_count": 3,
   "id": "9a40357d",
   "metadata": {
    "execution": {
     "iopub.execute_input": "2023-07-01T08:23:50.587392Z",
     "iopub.status.busy": "2023-07-01T08:23:50.586983Z",
     "iopub.status.idle": "2023-07-01T08:23:50.591486Z",
     "shell.execute_reply": "2023-07-01T08:23:50.590506Z"
    },
    "papermill": {
     "duration": 0.012193,
     "end_time": "2023-07-01T08:23:50.593574",
     "exception": false,
     "start_time": "2023-07-01T08:23:50.581381",
     "status": "completed"
    },
    "tags": []
   },
   "outputs": [],
   "source": [
    "# The lines below will show you a hint or the solution.\n",
    "# step_1.hint() \n",
    "# step_1.solution()\n"
   ]
  },
  {
   "cell_type": "markdown",
   "id": "975cbe1e",
   "metadata": {
    "papermill": {
     "duration": 0.004046,
     "end_time": "2023-07-01T08:23:50.604000",
     "exception": false,
     "start_time": "2023-07-01T08:23:50.599954",
     "status": "completed"
    },
    "tags": []
   },
   "source": [
    "## Step 2: Specify and Fit the Model\n",
    "\n",
    "Create a `DecisionTreeRegressor` model and fit it to the relevant data.\n",
    "Set `random_state` to 1 again when creating the model."
   ]
  },
  {
   "cell_type": "code",
   "execution_count": 4,
   "id": "3aa5ae5f",
   "metadata": {
    "execution": {
     "iopub.execute_input": "2023-07-01T08:23:50.614411Z",
     "iopub.status.busy": "2023-07-01T08:23:50.614070Z",
     "iopub.status.idle": "2023-07-01T08:23:50.641093Z",
     "shell.execute_reply": "2023-07-01T08:23:50.639597Z"
    },
    "papermill": {
     "duration": 0.035569,
     "end_time": "2023-07-01T08:23:50.643853",
     "exception": false,
     "start_time": "2023-07-01T08:23:50.608284",
     "status": "completed"
    },
    "tags": []
   },
   "outputs": [
    {
     "name": "stdout",
     "output_type": "stream",
     "text": [
      "[186500. 184000. 130000.  92000. 164500. 220000. 335000. 144152. 215000.\n",
      " 262000.]\n",
      "[186500. 184000. 130000.  92000. 164500. 220000. 335000. 144152. 215000.\n",
      " 262000.]\n"
     ]
    },
    {
     "data": {
      "application/javascript": [
       "parent.postMessage({\"jupyterEvent\": \"custom.exercise_interaction\", \"data\": {\"outcomeType\": 1, \"valueTowardsCompletion\": 0.25, \"interactionType\": 1, \"questionType\": 2, \"questionId\": \"2_FitModelWithTrain\", \"learnToolsVersion\": \"0.3.4\", \"failureMessage\": \"\", \"exceptionClass\": \"\", \"trace\": \"\"}}, \"*\")"
      ],
      "text/plain": [
       "<IPython.core.display.Javascript object>"
      ]
     },
     "metadata": {},
     "output_type": "display_data"
    },
    {
     "data": {
      "text/markdown": [
       "<span style=\"color:#33cc33\">Correct</span>"
      ],
      "text/plain": [
       "Correct"
      ]
     },
     "metadata": {},
     "output_type": "display_data"
    }
   ],
   "source": [
    "# You imported DecisionTreeRegressor in your last exercise\n",
    "# and that code has been copied to the setup code above. So, no need to\n",
    "# import it again\n",
    "\n",
    "iowa_model = DecisionTreeRegressor(random_state=1)\n",
    "iowa_model.fit(train_X, train_y)\n",
    "# Check your answer\n",
    "step_2.check()"
   ]
  },
  {
   "cell_type": "code",
   "execution_count": 5,
   "id": "ad5a8e17",
   "metadata": {
    "execution": {
     "iopub.execute_input": "2023-07-01T08:23:50.656281Z",
     "iopub.status.busy": "2023-07-01T08:23:50.655915Z",
     "iopub.status.idle": "2023-07-01T08:23:50.661487Z",
     "shell.execute_reply": "2023-07-01T08:23:50.659892Z"
    },
    "papermill": {
     "duration": 0.014277,
     "end_time": "2023-07-01T08:23:50.663591",
     "exception": false,
     "start_time": "2023-07-01T08:23:50.649314",
     "status": "completed"
    },
    "tags": []
   },
   "outputs": [],
   "source": [
    "# step_2.hint()\n",
    "# step_2.solution()"
   ]
  },
  {
   "cell_type": "markdown",
   "id": "b29b53db",
   "metadata": {
    "papermill": {
     "duration": 0.004183,
     "end_time": "2023-07-01T08:23:50.672398",
     "exception": false,
     "start_time": "2023-07-01T08:23:50.668215",
     "status": "completed"
    },
    "tags": []
   },
   "source": [
    "## Step 3: Make Predictions with Validation data\n"
   ]
  },
  {
   "cell_type": "code",
   "execution_count": 6,
   "id": "5f0e83be",
   "metadata": {
    "execution": {
     "iopub.execute_input": "2023-07-01T08:23:50.683177Z",
     "iopub.status.busy": "2023-07-01T08:23:50.682808Z",
     "iopub.status.idle": "2023-07-01T08:23:50.694761Z",
     "shell.execute_reply": "2023-07-01T08:23:50.693161Z"
    },
    "papermill": {
     "duration": 0.020693,
     "end_time": "2023-07-01T08:23:50.697540",
     "exception": false,
     "start_time": "2023-07-01T08:23:50.676847",
     "status": "completed"
    },
    "tags": []
   },
   "outputs": [
    {
     "data": {
      "application/javascript": [
       "parent.postMessage({\"jupyterEvent\": \"custom.exercise_interaction\", \"data\": {\"outcomeType\": 1, \"valueTowardsCompletion\": 0.25, \"interactionType\": 1, \"questionType\": 2, \"questionId\": \"3_ValPreds\", \"learnToolsVersion\": \"0.3.4\", \"failureMessage\": \"\", \"exceptionClass\": \"\", \"trace\": \"\"}}, \"*\")"
      ],
      "text/plain": [
       "<IPython.core.display.Javascript object>"
      ]
     },
     "metadata": {},
     "output_type": "display_data"
    },
    {
     "data": {
      "text/markdown": [
       "<span style=\"color:#33cc33\">Correct</span>"
      ],
      "text/plain": [
       "Correct"
      ]
     },
     "metadata": {},
     "output_type": "display_data"
    }
   ],
   "source": [
    "val_predictions = iowa_model.predict(val_X)\n",
    "# Check your answer\n",
    "step_3.check()"
   ]
  },
  {
   "cell_type": "code",
   "execution_count": 7,
   "id": "772905fd",
   "metadata": {
    "execution": {
     "iopub.execute_input": "2023-07-01T08:23:50.710198Z",
     "iopub.status.busy": "2023-07-01T08:23:50.709817Z",
     "iopub.status.idle": "2023-07-01T08:23:50.715489Z",
     "shell.execute_reply": "2023-07-01T08:23:50.713948Z"
    },
    "papermill": {
     "duration": 0.014894,
     "end_time": "2023-07-01T08:23:50.718116",
     "exception": false,
     "start_time": "2023-07-01T08:23:50.703222",
     "status": "completed"
    },
    "tags": []
   },
   "outputs": [],
   "source": [
    "# step_3.hint()\n",
    "# step_3.solution()"
   ]
  },
  {
   "cell_type": "markdown",
   "id": "e5c7013d",
   "metadata": {
    "papermill": {
     "duration": 0.004338,
     "end_time": "2023-07-01T08:23:50.727363",
     "exception": false,
     "start_time": "2023-07-01T08:23:50.723025",
     "status": "completed"
    },
    "tags": []
   },
   "source": [
    "Inspect your predictions and actual values from validation data."
   ]
  },
  {
   "cell_type": "code",
   "execution_count": 8,
   "id": "6a874571",
   "metadata": {
    "execution": {
     "iopub.execute_input": "2023-07-01T08:23:50.738083Z",
     "iopub.status.busy": "2023-07-01T08:23:50.737723Z",
     "iopub.status.idle": "2023-07-01T08:23:50.745299Z",
     "shell.execute_reply": "2023-07-01T08:23:50.743942Z"
    },
    "papermill": {
     "duration": 0.016111,
     "end_time": "2023-07-01T08:23:50.748037",
     "exception": false,
     "start_time": "2023-07-01T08:23:50.731926",
     "status": "completed"
    },
    "tags": []
   },
   "outputs": [
    {
     "name": "stdout",
     "output_type": "stream",
     "text": [
      "[186500. 184000. 130000.  92000. 164500. 220000. 335000. 144152. 215000.\n",
      " 262000.]\n",
      "258     231500\n",
      "267     179500\n",
      "288     122000\n",
      "649      84500\n",
      "1233    142000\n",
      "Name: SalePrice, dtype: int64\n"
     ]
    }
   ],
   "source": [
    "# print the top few validation predictions\n",
    "print(val_predictions[:10])\n",
    "# print the top few actual prices from validation data\n",
    "print(val_y.head())"
   ]
  },
  {
   "cell_type": "markdown",
   "id": "4384c665",
   "metadata": {
    "papermill": {
     "duration": 0.004462,
     "end_time": "2023-07-01T08:23:50.758407",
     "exception": false,
     "start_time": "2023-07-01T08:23:50.753945",
     "status": "completed"
    },
    "tags": []
   },
   "source": [
    "What do you notice that is different from what you saw with in-sample predictions (which are printed after the top code cell in this page).\n",
    "\n",
    "Do you remember why validation predictions differ from in-sample (or training) predictions? This is an important idea from the last lesson.\n",
    "\n",
    "## Step 4: Calculate the Mean Absolute Error in Validation Data\n"
   ]
  },
  {
   "cell_type": "code",
   "execution_count": 9,
   "id": "1d7f613f",
   "metadata": {
    "execution": {
     "iopub.execute_input": "2023-07-01T08:23:50.770547Z",
     "iopub.status.busy": "2023-07-01T08:23:50.770237Z",
     "iopub.status.idle": "2023-07-01T08:23:50.777943Z",
     "shell.execute_reply": "2023-07-01T08:23:50.777037Z"
    },
    "papermill": {
     "duration": 0.015854,
     "end_time": "2023-07-01T08:23:50.779820",
     "exception": false,
     "start_time": "2023-07-01T08:23:50.763966",
     "status": "completed"
    },
    "tags": []
   },
   "outputs": [
    {
     "data": {
      "application/javascript": [
       "parent.postMessage({\"jupyterEvent\": \"custom.exercise_interaction\", \"data\": {\"outcomeType\": 1, \"valueTowardsCompletion\": 0.25, \"interactionType\": 1, \"questionType\": 1, \"questionId\": \"4_MAE\", \"learnToolsVersion\": \"0.3.4\", \"failureMessage\": \"\", \"exceptionClass\": \"\", \"trace\": \"\"}}, \"*\")"
      ],
      "text/plain": [
       "<IPython.core.display.Javascript object>"
      ]
     },
     "metadata": {},
     "output_type": "display_data"
    },
    {
     "data": {
      "text/markdown": [
       "<span style=\"color:#33cc33\">Correct</span>"
      ],
      "text/plain": [
       "Correct"
      ]
     },
     "metadata": {},
     "output_type": "display_data"
    }
   ],
   "source": [
    "from sklearn.metrics import mean_absolute_error\n",
    "val_mae = mean_absolute_error(val_y, val_predictions)\n",
    "\n",
    "# uncomment following line to see the validation_mae\n",
    "#print(val_mae)\n",
    "\n",
    "# Check your answer\n",
    "step_4.check()"
   ]
  },
  {
   "cell_type": "code",
   "execution_count": 10,
   "id": "31f03337",
   "metadata": {
    "execution": {
     "iopub.execute_input": "2023-07-01T08:23:50.793666Z",
     "iopub.status.busy": "2023-07-01T08:23:50.792847Z",
     "iopub.status.idle": "2023-07-01T08:23:50.797639Z",
     "shell.execute_reply": "2023-07-01T08:23:50.796481Z"
    },
    "papermill": {
     "duration": 0.01475,
     "end_time": "2023-07-01T08:23:50.799991",
     "exception": false,
     "start_time": "2023-07-01T08:23:50.785241",
     "status": "completed"
    },
    "tags": []
   },
   "outputs": [],
   "source": [
    "# step_4.hint()\n",
    "# step_4.solution()"
   ]
  },
  {
   "cell_type": "markdown",
   "id": "65661317",
   "metadata": {
    "papermill": {
     "duration": 0.004732,
     "end_time": "2023-07-01T08:23:50.810798",
     "exception": false,
     "start_time": "2023-07-01T08:23:50.806066",
     "status": "completed"
    },
    "tags": []
   },
   "source": [
    "Is that MAE good?  There isn't a general rule for what values are good that applies across applications. But you'll see how to use (and improve) this number in the next step.\n",
    "\n",
    "# Keep Going\n",
    "\n",
    "You are ready for **[Underfitting and Overfitting](https://www.kaggle.com/dansbecker/underfitting-and-overfitting).**\n"
   ]
  },
  {
   "cell_type": "markdown",
   "id": "2b06a35b",
   "metadata": {
    "papermill": {
     "duration": 0.004728,
     "end_time": "2023-07-01T08:23:50.820539",
     "exception": false,
     "start_time": "2023-07-01T08:23:50.815811",
     "status": "completed"
    },
    "tags": []
   },
   "source": [
    "---\n",
    "\n",
    "\n",
    "\n",
    "\n",
    "*Have questions or comments? Visit the [course discussion forum](https://www.kaggle.com/learn/intro-to-machine-learning/discussion) to chat with other learners.*"
   ]
  }
 ],
 "metadata": {
  "kernelspec": {
   "display_name": "Python 3",
   "language": "python",
   "name": "python3"
  },
  "language_info": {
   "codemirror_mode": {
    "name": "ipython",
    "version": 3
   },
   "file_extension": ".py",
   "mimetype": "text/x-python",
   "name": "python",
   "nbconvert_exporter": "python",
   "pygments_lexer": "ipython3",
   "version": "3.10.10"
  },
  "papermill": {
   "default_parameters": {},
   "duration": 15.441383,
   "end_time": "2023-07-01T08:23:53.886540",
   "environment_variables": {},
   "exception": null,
   "input_path": "__notebook__.ipynb",
   "output_path": "__notebook__.ipynb",
   "parameters": {},
   "start_time": "2023-07-01T08:23:38.445157",
   "version": "2.4.0"
  }
 },
 "nbformat": 4,
 "nbformat_minor": 5
}
