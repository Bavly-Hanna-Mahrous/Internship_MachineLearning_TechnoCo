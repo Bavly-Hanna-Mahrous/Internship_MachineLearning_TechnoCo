{
 "cells": [
  {
   "cell_type": "markdown",
   "id": "2afcae8d",
   "metadata": {
    "papermill": {
     "duration": 0.004817,
     "end_time": "2023-07-01T08:38:19.414129",
     "exception": false,
     "start_time": "2023-07-01T08:38:19.409312",
     "status": "completed"
    },
    "tags": []
   },
   "source": [
    "**This notebook is an exercise in the [Intermediate Machine Learning](https://www.kaggle.com/learn/intermediate-machine-learning) course.  You can reference the tutorial at [this link](https://www.kaggle.com/alexisbcook/introduction).**\n",
    "\n",
    "---\n"
   ]
  },
  {
   "cell_type": "markdown",
   "id": "47eb857f",
   "metadata": {
    "papermill": {
     "duration": 0.00376,
     "end_time": "2023-07-01T08:38:19.422007",
     "exception": false,
     "start_time": "2023-07-01T08:38:19.418247",
     "status": "completed"
    },
    "tags": []
   },
   "source": [
    "As a warm-up, you'll review some machine learning fundamentals and submit your initial results to a Kaggle competition.\n",
    "\n",
    "# Setup\n",
    "\n",
    "The questions below will give you feedback on your work. Run the following cell to set up the feedback system."
   ]
  },
  {
   "cell_type": "code",
   "execution_count": 1,
   "id": "4f9a63b9",
   "metadata": {
    "execution": {
     "iopub.execute_input": "2023-07-01T08:38:19.431787Z",
     "iopub.status.busy": "2023-07-01T08:38:19.431435Z",
     "iopub.status.idle": "2023-07-01T08:38:21.248914Z",
     "shell.execute_reply": "2023-07-01T08:38:21.247584Z"
    },
    "papermill": {
     "duration": 1.825267,
     "end_time": "2023-07-01T08:38:21.251347",
     "exception": false,
     "start_time": "2023-07-01T08:38:19.426080",
     "status": "completed"
    },
    "tags": []
   },
   "outputs": [
    {
     "name": "stdout",
     "output_type": "stream",
     "text": [
      "Setup Complete\n"
     ]
    }
   ],
   "source": [
    "# Set up code checking\n",
    "import os\n",
    "if not os.path.exists(\"../input/train.csv\"):\n",
    "    os.symlink(\"../input/home-data-for-ml-course/train.csv\", \"../input/train.csv\")  \n",
    "    os.symlink(\"../input/home-data-for-ml-course/test.csv\", \"../input/test.csv\")  \n",
    "from learntools.core import binder\n",
    "binder.bind(globals())\n",
    "from learntools.ml_intermediate.ex1 import *\n",
    "print(\"Setup Complete\")"
   ]
  },
  {
   "cell_type": "markdown",
   "id": "697606c5",
   "metadata": {
    "papermill": {
     "duration": 0.005373,
     "end_time": "2023-07-01T08:38:21.262600",
     "exception": false,
     "start_time": "2023-07-01T08:38:21.257227",
     "status": "completed"
    },
    "tags": []
   },
   "source": [
    "You will work with data from the [Housing Prices Competition for Kaggle Learn Users](https://www.kaggle.com/c/home-data-for-ml-course) to predict home prices in Iowa using 79 explanatory variables describing (almost) every aspect of the homes.  \n",
    "\n",
    "![Ames Housing dataset image](https://storage.googleapis.com/kaggle-media/learn/images/lTJVG4e.png)\n",
    "\n",
    "Run the next code cell without changes to load the training and validation features in `X_train` and `X_valid`, along with the prediction targets in `y_train` and `y_valid`.  The test features are loaded in `X_test`.  (_If you need to review **features** and **prediction targets**, please check out [this short tutorial](https://www.kaggle.com/dansbecker/your-first-machine-learning-model).  To read about model **validation**, look [here](https://www.kaggle.com/dansbecker/model-validation).  Alternatively, if you'd prefer to look through a full course to review all of these topics, start [here](https://www.kaggle.com/learn/machine-learning).)_"
   ]
  },
  {
   "cell_type": "code",
   "execution_count": 2,
   "id": "a1766f72",
   "metadata": {
    "execution": {
     "iopub.execute_input": "2023-07-01T08:38:21.274183Z",
     "iopub.status.busy": "2023-07-01T08:38:21.273818Z",
     "iopub.status.idle": "2023-07-01T08:38:21.362671Z",
     "shell.execute_reply": "2023-07-01T08:38:21.361806Z"
    },
    "papermill": {
     "duration": 0.097045,
     "end_time": "2023-07-01T08:38:21.365152",
     "exception": false,
     "start_time": "2023-07-01T08:38:21.268107",
     "status": "completed"
    },
    "tags": []
   },
   "outputs": [],
   "source": [
    "import pandas as pd\n",
    "from sklearn.model_selection import train_test_split\n",
    "\n",
    "# Read the data\n",
    "X_full = pd.read_csv('../input/train.csv', index_col='Id')\n",
    "X_test_full = pd.read_csv('../input/test.csv', index_col='Id')\n",
    "\n",
    "# Obtain target and predictors\n",
    "y = X_full.SalePrice\n",
    "features = ['LotArea', 'YearBuilt', '1stFlrSF', '2ndFlrSF', 'FullBath', 'BedroomAbvGr', 'TotRmsAbvGrd']\n",
    "X = X_full[features].copy()\n",
    "X_test = X_test_full[features].copy()\n",
    "\n",
    "# Break off validation set from training data\n",
    "X_train, X_valid, y_train, y_valid = train_test_split(X, y, train_size=0.8, test_size=0.2,\n",
    "                                                      random_state=0)"
   ]
  },
  {
   "cell_type": "markdown",
   "id": "f67d3b04",
   "metadata": {
    "papermill": {
     "duration": 0.007263,
     "end_time": "2023-07-01T08:38:21.378386",
     "exception": false,
     "start_time": "2023-07-01T08:38:21.371123",
     "status": "completed"
    },
    "tags": []
   },
   "source": [
    "Use the next cell to print the first several rows of the data. It's a nice way to get an overview of the data you will use in your price prediction model."
   ]
  },
  {
   "cell_type": "code",
   "execution_count": 3,
   "id": "416aabaa",
   "metadata": {
    "execution": {
     "iopub.execute_input": "2023-07-01T08:38:21.391925Z",
     "iopub.status.busy": "2023-07-01T08:38:21.390860Z",
     "iopub.status.idle": "2023-07-01T08:38:21.417122Z",
     "shell.execute_reply": "2023-07-01T08:38:21.416083Z"
    },
    "papermill": {
     "duration": 0.035069,
     "end_time": "2023-07-01T08:38:21.419173",
     "exception": false,
     "start_time": "2023-07-01T08:38:21.384104",
     "status": "completed"
    },
    "tags": []
   },
   "outputs": [
    {
     "data": {
      "text/html": [
       "<div>\n",
       "<style scoped>\n",
       "    .dataframe tbody tr th:only-of-type {\n",
       "        vertical-align: middle;\n",
       "    }\n",
       "\n",
       "    .dataframe tbody tr th {\n",
       "        vertical-align: top;\n",
       "    }\n",
       "\n",
       "    .dataframe thead th {\n",
       "        text-align: right;\n",
       "    }\n",
       "</style>\n",
       "<table border=\"1\" class=\"dataframe\">\n",
       "  <thead>\n",
       "    <tr style=\"text-align: right;\">\n",
       "      <th></th>\n",
       "      <th>LotArea</th>\n",
       "      <th>YearBuilt</th>\n",
       "      <th>1stFlrSF</th>\n",
       "      <th>2ndFlrSF</th>\n",
       "      <th>FullBath</th>\n",
       "      <th>BedroomAbvGr</th>\n",
       "      <th>TotRmsAbvGrd</th>\n",
       "    </tr>\n",
       "    <tr>\n",
       "      <th>Id</th>\n",
       "      <th></th>\n",
       "      <th></th>\n",
       "      <th></th>\n",
       "      <th></th>\n",
       "      <th></th>\n",
       "      <th></th>\n",
       "      <th></th>\n",
       "    </tr>\n",
       "  </thead>\n",
       "  <tbody>\n",
       "    <tr>\n",
       "      <th>619</th>\n",
       "      <td>11694</td>\n",
       "      <td>2007</td>\n",
       "      <td>1828</td>\n",
       "      <td>0</td>\n",
       "      <td>2</td>\n",
       "      <td>3</td>\n",
       "      <td>9</td>\n",
       "    </tr>\n",
       "    <tr>\n",
       "      <th>871</th>\n",
       "      <td>6600</td>\n",
       "      <td>1962</td>\n",
       "      <td>894</td>\n",
       "      <td>0</td>\n",
       "      <td>1</td>\n",
       "      <td>2</td>\n",
       "      <td>5</td>\n",
       "    </tr>\n",
       "    <tr>\n",
       "      <th>93</th>\n",
       "      <td>13360</td>\n",
       "      <td>1921</td>\n",
       "      <td>964</td>\n",
       "      <td>0</td>\n",
       "      <td>1</td>\n",
       "      <td>2</td>\n",
       "      <td>5</td>\n",
       "    </tr>\n",
       "    <tr>\n",
       "      <th>818</th>\n",
       "      <td>13265</td>\n",
       "      <td>2002</td>\n",
       "      <td>1689</td>\n",
       "      <td>0</td>\n",
       "      <td>2</td>\n",
       "      <td>3</td>\n",
       "      <td>7</td>\n",
       "    </tr>\n",
       "    <tr>\n",
       "      <th>303</th>\n",
       "      <td>13704</td>\n",
       "      <td>2001</td>\n",
       "      <td>1541</td>\n",
       "      <td>0</td>\n",
       "      <td>2</td>\n",
       "      <td>3</td>\n",
       "      <td>6</td>\n",
       "    </tr>\n",
       "  </tbody>\n",
       "</table>\n",
       "</div>"
      ],
      "text/plain": [
       "     LotArea  YearBuilt  1stFlrSF  2ndFlrSF  FullBath  BedroomAbvGr  \\\n",
       "Id                                                                    \n",
       "619    11694       2007      1828         0         2             3   \n",
       "871     6600       1962       894         0         1             2   \n",
       "93     13360       1921       964         0         1             2   \n",
       "818    13265       2002      1689         0         2             3   \n",
       "303    13704       2001      1541         0         2             3   \n",
       "\n",
       "     TotRmsAbvGrd  \n",
       "Id                 \n",
       "619             9  \n",
       "871             5  \n",
       "93              5  \n",
       "818             7  \n",
       "303             6  "
      ]
     },
     "execution_count": 3,
     "metadata": {},
     "output_type": "execute_result"
    }
   ],
   "source": [
    "X_train.head()"
   ]
  },
  {
   "cell_type": "markdown",
   "id": "5c68981b",
   "metadata": {
    "papermill": {
     "duration": 0.004486,
     "end_time": "2023-07-01T08:38:21.429649",
     "exception": false,
     "start_time": "2023-07-01T08:38:21.425163",
     "status": "completed"
    },
    "tags": []
   },
   "source": [
    "The next code cell defines five different random forest models.  Run this code cell without changes.  (_To review **random forests**, look [here](https://www.kaggle.com/dansbecker/random-forests)._)"
   ]
  },
  {
   "cell_type": "code",
   "execution_count": 4,
   "id": "9a4cdeed",
   "metadata": {
    "execution": {
     "iopub.execute_input": "2023-07-01T08:38:21.441868Z",
     "iopub.status.busy": "2023-07-01T08:38:21.441307Z",
     "iopub.status.idle": "2023-07-01T08:38:21.446163Z",
     "shell.execute_reply": "2023-07-01T08:38:21.445581Z"
    },
    "papermill": {
     "duration": 0.013552,
     "end_time": "2023-07-01T08:38:21.448231",
     "exception": false,
     "start_time": "2023-07-01T08:38:21.434679",
     "status": "completed"
    },
    "tags": []
   },
   "outputs": [],
   "source": [
    "from sklearn.ensemble import RandomForestRegressor\n",
    "\n",
    "# Define the models\n",
    "model_1 = RandomForestRegressor(n_estimators=50, random_state=0)\n",
    "model_2 = RandomForestRegressor(n_estimators=100, random_state=0)\n",
    "model_3 = RandomForestRegressor(n_estimators=100, criterion='absolute_error', random_state=0)\n",
    "model_4 = RandomForestRegressor(n_estimators=200, min_samples_split=20, random_state=0)\n",
    "model_5 = RandomForestRegressor(n_estimators=100, max_depth=7, random_state=0)\n",
    "\n",
    "models = [model_1, model_2, model_3, model_4, model_5]"
   ]
  },
  {
   "cell_type": "markdown",
   "id": "20aff947",
   "metadata": {
    "papermill": {
     "duration": 0.005121,
     "end_time": "2023-07-01T08:38:21.459250",
     "exception": false,
     "start_time": "2023-07-01T08:38:21.454129",
     "status": "completed"
    },
    "tags": []
   },
   "source": [
    "To select the best model out of the five, we define a function `score_model()` below.  This function returns the mean absolute error (MAE) from the validation set.  Recall that the best model will obtain the lowest MAE.  (_To review **mean absolute error**, look [here](https://www.kaggle.com/dansbecker/model-validation).)_\n",
    "\n",
    "Run the code cell without changes."
   ]
  },
  {
   "cell_type": "code",
   "execution_count": 5,
   "id": "f86427ae",
   "metadata": {
    "execution": {
     "iopub.execute_input": "2023-07-01T08:38:21.471606Z",
     "iopub.status.busy": "2023-07-01T08:38:21.471010Z",
     "iopub.status.idle": "2023-07-01T08:38:25.653171Z",
     "shell.execute_reply": "2023-07-01T08:38:25.651903Z"
    },
    "papermill": {
     "duration": 4.190488,
     "end_time": "2023-07-01T08:38:25.654995",
     "exception": false,
     "start_time": "2023-07-01T08:38:21.464507",
     "status": "completed"
    },
    "tags": []
   },
   "outputs": [
    {
     "name": "stdout",
     "output_type": "stream",
     "text": [
      "Model 1 MAE: 24015\n",
      "Model 2 MAE: 23740\n",
      "Model 3 MAE: 23528\n",
      "Model 4 MAE: 23996\n",
      "Model 5 MAE: 23706\n"
     ]
    }
   ],
   "source": [
    "from sklearn.metrics import mean_absolute_error\n",
    "\n",
    "# Function for comparing different models\n",
    "def score_model(model, X_t=X_train, X_v=X_valid, y_t=y_train, y_v=y_valid):\n",
    "    model.fit(X_t, y_t)\n",
    "    preds = model.predict(X_v)\n",
    "    return mean_absolute_error(y_v, preds)\n",
    "\n",
    "for i in range(0, len(models)):\n",
    "    mae = score_model(models[i])\n",
    "    print(\"Model %d MAE: %d\" % (i+1, mae))"
   ]
  },
  {
   "cell_type": "markdown",
   "id": "7eb59129",
   "metadata": {
    "papermill": {
     "duration": 0.00435,
     "end_time": "2023-07-01T08:38:25.664300",
     "exception": false,
     "start_time": "2023-07-01T08:38:25.659950",
     "status": "completed"
    },
    "tags": []
   },
   "source": [
    "# Step 1: Evaluate several models\n",
    "\n",
    "Use the above results to fill in the line below.  Which model is the best model?  Your answer should be one of `model_1`, `model_2`, `model_3`, `model_4`, or `model_5`."
   ]
  },
  {
   "cell_type": "code",
   "execution_count": 6,
   "id": "0a3f9204",
   "metadata": {
    "execution": {
     "iopub.execute_input": "2023-07-01T08:38:25.675601Z",
     "iopub.status.busy": "2023-07-01T08:38:25.674605Z",
     "iopub.status.idle": "2023-07-01T08:38:25.684785Z",
     "shell.execute_reply": "2023-07-01T08:38:25.683520Z"
    },
    "papermill": {
     "duration": 0.017982,
     "end_time": "2023-07-01T08:38:25.686866",
     "exception": false,
     "start_time": "2023-07-01T08:38:25.668884",
     "status": "completed"
    },
    "tags": []
   },
   "outputs": [
    {
     "data": {
      "application/javascript": [
       "parent.postMessage({\"jupyterEvent\": \"custom.exercise_interaction\", \"data\": {\"outcomeType\": 1, \"valueTowardsCompletion\": 0.5, \"interactionType\": 1, \"questionType\": 2, \"questionId\": \"1_BestModel\", \"learnToolsVersion\": \"0.3.4\", \"failureMessage\": \"\", \"exceptionClass\": \"\", \"trace\": \"\"}}, \"*\")"
      ],
      "text/plain": [
       "<IPython.core.display.Javascript object>"
      ]
     },
     "metadata": {},
     "output_type": "display_data"
    },
    {
     "data": {
      "text/markdown": [
       "<span style=\"color:#33cc33\">Correct</span>"
      ],
      "text/plain": [
       "Correct"
      ]
     },
     "metadata": {},
     "output_type": "display_data"
    }
   ],
   "source": [
    "# Fill in the best model\n",
    "best_model = model_3\n",
    "\n",
    "# Check your answer\n",
    "step_1.check()"
   ]
  },
  {
   "cell_type": "code",
   "execution_count": 7,
   "id": "52ed7b90",
   "metadata": {
    "execution": {
     "iopub.execute_input": "2023-07-01T08:38:25.698946Z",
     "iopub.status.busy": "2023-07-01T08:38:25.698573Z",
     "iopub.status.idle": "2023-07-01T08:38:25.703307Z",
     "shell.execute_reply": "2023-07-01T08:38:25.702293Z"
    },
    "papermill": {
     "duration": 0.012863,
     "end_time": "2023-07-01T08:38:25.705151",
     "exception": false,
     "start_time": "2023-07-01T08:38:25.692288",
     "status": "completed"
    },
    "tags": []
   },
   "outputs": [],
   "source": [
    "# Lines below will give you a hint or solution code\n",
    "#step_1.hint()\n",
    "#step_1.solution()"
   ]
  },
  {
   "cell_type": "markdown",
   "id": "910d9eee",
   "metadata": {
    "papermill": {
     "duration": 0.006034,
     "end_time": "2023-07-01T08:38:25.716809",
     "exception": false,
     "start_time": "2023-07-01T08:38:25.710775",
     "status": "completed"
    },
    "tags": []
   },
   "source": [
    "# Step 2: Generate test predictions\n",
    "\n",
    "Great. You know how to evaluate what makes an accurate model. Now it's time to go through the modeling process and make predictions. In the line below, create a Random Forest model with the variable name `my_model`."
   ]
  },
  {
   "cell_type": "code",
   "execution_count": 8,
   "id": "35771f30",
   "metadata": {
    "execution": {
     "iopub.execute_input": "2023-07-01T08:38:25.732623Z",
     "iopub.status.busy": "2023-07-01T08:38:25.732276Z",
     "iopub.status.idle": "2023-07-01T08:38:25.739836Z",
     "shell.execute_reply": "2023-07-01T08:38:25.738568Z"
    },
    "papermill": {
     "duration": 0.019545,
     "end_time": "2023-07-01T08:38:25.743373",
     "exception": false,
     "start_time": "2023-07-01T08:38:25.723828",
     "status": "completed"
    },
    "tags": []
   },
   "outputs": [
    {
     "data": {
      "application/javascript": [
       "parent.postMessage({\"jupyterEvent\": \"custom.exercise_interaction\", \"data\": {\"outcomeType\": 1, \"valueTowardsCompletion\": 0.5, \"interactionType\": 1, \"questionType\": 2, \"questionId\": \"2_Predictions\", \"learnToolsVersion\": \"0.3.4\", \"failureMessage\": \"\", \"exceptionClass\": \"\", \"trace\": \"\"}}, \"*\")"
      ],
      "text/plain": [
       "<IPython.core.display.Javascript object>"
      ]
     },
     "metadata": {},
     "output_type": "display_data"
    },
    {
     "data": {
      "text/markdown": [
       "<span style=\"color:#33cc33\">Correct</span>"
      ],
      "text/plain": [
       "Correct"
      ]
     },
     "metadata": {},
     "output_type": "display_data"
    }
   ],
   "source": [
    "\n",
    "# Define a model\n",
    "my_model = best_model\n",
    "\n",
    "# Check your answer\n",
    "step_2.check()"
   ]
  },
  {
   "cell_type": "code",
   "execution_count": 9,
   "id": "40fd428b",
   "metadata": {
    "execution": {
     "iopub.execute_input": "2023-07-01T08:38:25.760274Z",
     "iopub.status.busy": "2023-07-01T08:38:25.759622Z",
     "iopub.status.idle": "2023-07-01T08:38:25.763529Z",
     "shell.execute_reply": "2023-07-01T08:38:25.762450Z"
    },
    "papermill": {
     "duration": 0.01283,
     "end_time": "2023-07-01T08:38:25.765664",
     "exception": false,
     "start_time": "2023-07-01T08:38:25.752834",
     "status": "completed"
    },
    "tags": []
   },
   "outputs": [],
   "source": [
    "# Lines below will give you a hint or solution code\n",
    "#step_2.hint()\n",
    "#step_2.solution()"
   ]
  },
  {
   "cell_type": "markdown",
   "id": "bf1cbdfd",
   "metadata": {
    "papermill": {
     "duration": 0.004997,
     "end_time": "2023-07-01T08:38:25.776175",
     "exception": false,
     "start_time": "2023-07-01T08:38:25.771178",
     "status": "completed"
    },
    "tags": []
   },
   "source": [
    "Run the next code cell without changes.  The code fits the model to the training and validation data, and then generates test predictions that are saved to a CSV file.  These test predictions can be submitted directly to the competition!"
   ]
  },
  {
   "cell_type": "code",
   "execution_count": 10,
   "id": "1297fa41",
   "metadata": {
    "execution": {
     "iopub.execute_input": "2023-07-01T08:38:25.788110Z",
     "iopub.status.busy": "2023-07-01T08:38:25.787794Z",
     "iopub.status.idle": "2023-07-01T08:38:29.492150Z",
     "shell.execute_reply": "2023-07-01T08:38:29.490896Z"
    },
    "papermill": {
     "duration": 3.713088,
     "end_time": "2023-07-01T08:38:29.494507",
     "exception": false,
     "start_time": "2023-07-01T08:38:25.781419",
     "status": "completed"
    },
    "tags": []
   },
   "outputs": [],
   "source": [
    "# Fit the model to the training data\n",
    "my_model.fit(X, y)\n",
    "\n",
    "# Generate test predictions\n",
    "preds_test = my_model.predict(X_test)\n",
    "\n",
    "# Save predictions in format used for competition scoring\n",
    "output = pd.DataFrame({'Id': X_test.index,\n",
    "                       'SalePrice': preds_test})\n",
    "output.to_csv('submission.csv', index=False)"
   ]
  },
  {
   "cell_type": "markdown",
   "id": "5fd3ffed",
   "metadata": {
    "papermill": {
     "duration": 0.004768,
     "end_time": "2023-07-01T08:38:29.504683",
     "exception": false,
     "start_time": "2023-07-01T08:38:29.499915",
     "status": "completed"
    },
    "tags": []
   },
   "source": [
    "# Submit your results\n",
    "\n",
    "Once you have successfully completed Step 2, you're ready to submit your results to the leaderboard!  First, you'll need to join the competition if you haven't already.  So open a new window by clicking on [this link](https://www.kaggle.com/c/home-data-for-ml-course).  Then click on the **Join Competition** button.  _(If you see a \"Submit Predictions\" button instead of a \"Join Competition\" button, you have already joined the competition, and don't need to do so again.)_\n",
    "\n",
    "Next, follow the instructions below:\n",
    "1. Begin by clicking on the **Save Version** button in the top right corner of the window.  This will generate a pop-up window.  \n",
    "2. Ensure that the **Save and Run All** option is selected, and then click on the **Save** button.\n",
    "3. This generates a window in the bottom left corner of the notebook.  After it has finished running, click on the number to the right of the **Save Version** button.  This pulls up a list of versions on the right of the screen.  Click on the ellipsis **(...)** to the right of the most recent version, and select **Open in Viewer**.  This brings you into view mode of the same page. You will need to scroll down to get back to these instructions.\n",
    "4. Click on the **Data** tab near the top of the screen.  Then, click on the file you would like to submit, and click on the **Submit** button to submit your results to the leaderboard.\n",
    "\n",
    "You have now successfully submitted to the competition!\n",
    "\n",
    "If you want to keep working to improve your performance, select the **Edit** button in the top right of the screen. Then you can change your code and repeat the process. There's a lot of room to improve, and you will climb up the leaderboard as you work.\n"
   ]
  },
  {
   "cell_type": "markdown",
   "id": "a6b809bd",
   "metadata": {
    "papermill": {
     "duration": 0.004785,
     "end_time": "2023-07-01T08:38:29.514308",
     "exception": false,
     "start_time": "2023-07-01T08:38:29.509523",
     "status": "completed"
    },
    "tags": []
   },
   "source": [
    "# Keep going\n",
    "\n",
    "You've made your first model. But how can you quickly make it better?\n",
    "\n",
    "Learn how to improve your competition results by incorporating columns with **[missing values](https://www.kaggle.com/alexisbcook/missing-values)**."
   ]
  },
  {
   "cell_type": "markdown",
   "id": "00c6c435",
   "metadata": {
    "papermill": {
     "duration": 0.004704,
     "end_time": "2023-07-01T08:38:29.523864",
     "exception": false,
     "start_time": "2023-07-01T08:38:29.519160",
     "status": "completed"
    },
    "tags": []
   },
   "source": [
    "---\n",
    "\n",
    "\n",
    "\n",
    "\n",
    "*Have questions or comments? Visit the [course discussion forum](https://www.kaggle.com/learn/intermediate-machine-learning/discussion) to chat with other learners.*"
   ]
  }
 ],
 "metadata": {
  "kernelspec": {
   "display_name": "Python 3",
   "language": "python",
   "name": "python3"
  },
  "language_info": {
   "codemirror_mode": {
    "name": "ipython",
    "version": 3
   },
   "file_extension": ".py",
   "mimetype": "text/x-python",
   "name": "python",
   "nbconvert_exporter": "python",
   "pygments_lexer": "ipython3",
   "version": "3.10.10"
  },
  "papermill": {
   "default_parameters": {},
   "duration": 21.914651,
   "end_time": "2023-07-01T08:38:30.449580",
   "environment_variables": {},
   "exception": null,
   "input_path": "__notebook__.ipynb",
   "output_path": "__notebook__.ipynb",
   "parameters": {},
   "start_time": "2023-07-01T08:38:08.534929",
   "version": "2.4.0"
  }
 },
 "nbformat": 4,
 "nbformat_minor": 5
}
